{
 "cells": [
  {
   "cell_type": "code",
   "execution_count": 1,
   "metadata": {},
   "outputs": [
    {
     "name": "stderr",
     "output_type": "stream",
     "text": [
      "Using TensorFlow backend.\n"
     ]
    }
   ],
   "source": [
    "from keras.models import Sequential\n",
    "from keras.layers import Dense, Activation, Flatten\n",
    "from keras.optimizers import Adam\n",
    "import gym\n",
    "from rl.agents.dqn import DQNAgent\n",
    "from rl.policy import EpsGreedyQPolicy\n",
    "from rl.memory import SequentialMemory\n",
    "import json\n",
    "import numpy as np"
   ]
  },
  {
   "cell_type": "markdown",
   "metadata": {},
   "source": [
    "### Agent and Environment Description\n",
    "\n",
    "* observation:  \n",
    "    (Cart Position ,  Cart Velocity ,  Pole Angle ,  Pole Velocity At Tip)\n",
    " \n",
    "* Actions:  \n",
    "    0 Push cart to the left; 1 Push cart to the right\n",
    "\n",
    "* Reward:  \n",
    "    Reward is for every step taken ,  including the termination step\n",
    "\n",
    "* Starting State:  \n",
    "    All observations are assigned a uniform random value between +-0.05\n",
    "\n",
    "* Episode Termination:  \n",
    "    Pole Angle is more than ±12°\n",
    "    Cart Position is more than ± 2.4 \n",
    "    (center of the cart reaches the edge of the display)\n",
    "    Episode length is greater than 200\n",
    "\n",
    "* reference:  \n",
    "    http:  //neuro-educator.com/rl1/\n"
   ]
  },
  {
   "cell_type": "code",
   "execution_count": 2,
   "metadata": {},
   "outputs": [
    {
     "name": "stdout",
     "output_type": "stream",
     "text": [
      "\u001b[33mWARN: gym.spaces.Box autodetected dtype as <class 'numpy.float32'>. Please provide explicit dtype.\u001b[0m\n"
     ]
    }
   ],
   "source": [
    "env = gym.make('CartPole-v0')"
   ]
  },
  {
   "cell_type": "code",
   "execution_count": 68,
   "metadata": {},
   "outputs": [],
   "source": [
    "model = Sequential()\n",
    "# input: (n x 4) ( Cart Position, Cart Vel, Pole Angle, Pole Vel)\n",
    "model.add(Flatten(input_shape=(1, env.observation_space.shape[0])))\n",
    "model.add(Dense(16))\n",
    "model.add(Activation('relu'))\n",
    "model.add(Dense(16))\n",
    "model.add(Activation('relu'))\n",
    "model.add(Dense(16))\n",
    "model.add(Activation('relu'))\n",
    "\n",
    "# output: (n x 3) (left, no, right)\n",
    "model.add(Dense(env.action_space.n))\n",
    "model.add(Activation('linear'))"
   ]
  },
  {
   "cell_type": "code",
   "execution_count": 69,
   "metadata": {
    "scrolled": true
   },
   "outputs": [
    {
     "name": "stdout",
     "output_type": "stream",
     "text": [
      "_________________________________________________________________\n",
      "Layer (type)                 Output Shape              Param #   \n",
      "=================================================================\n",
      "flatten_3 (Flatten)          (None, 4)                 0         \n",
      "_________________________________________________________________\n",
      "dense_9 (Dense)              (None, 16)                80        \n",
      "_________________________________________________________________\n",
      "activation_9 (Activation)    (None, 16)                0         \n",
      "_________________________________________________________________\n",
      "dense_10 (Dense)             (None, 16)                272       \n",
      "_________________________________________________________________\n",
      "activation_10 (Activation)   (None, 16)                0         \n",
      "_________________________________________________________________\n",
      "dense_11 (Dense)             (None, 16)                272       \n",
      "_________________________________________________________________\n",
      "activation_11 (Activation)   (None, 16)                0         \n",
      "_________________________________________________________________\n",
      "dense_12 (Dense)             (None, 2)                 34        \n",
      "_________________________________________________________________\n",
      "activation_12 (Activation)   (None, 2)                 0         \n",
      "=================================================================\n",
      "Total params: 658\n",
      "Trainable params: 658\n",
      "Non-trainable params: 0\n",
      "_________________________________________________________________\n"
     ]
    }
   ],
   "source": [
    "model.summary()"
   ]
  },
  {
   "cell_type": "code",
   "execution_count": 70,
   "metadata": {},
   "outputs": [],
   "source": [
    "# memory replay\n",
    "memory = SequentialMemory(limit=50000, window_length=1)\n",
    "\n",
    "# epsilon greedy algorithm\n",
    "policy = EpsGreedyQPolicy(eps=0.001)\n",
    "\n",
    "dqn = DQNAgent(model=model, nb_actions=env.action_space.n, gamma=0.99, memory=memory,\n",
    "              nb_steps_warmup=10, target_model_update=1e-2, policy=policy)"
   ]
  },
  {
   "cell_type": "code",
   "execution_count": null,
   "metadata": {},
   "outputs": [
    {
     "name": "stdout",
     "output_type": "stream",
     "text": [
      "Training for 100000 steps ...\n"
     ]
    },
    {
     "name": "stderr",
     "output_type": "stream",
     "text": [
      "/home/syuntoku14/.pyenv/versions/anaconda3-5.1.0/envs/coursera/lib/python3.6/site-packages/rl/memory.py:29: UserWarning: Not enough entries to sample without replacement. Consider increasing your warm-up phase to avoid oversampling!\n",
      "  warnings.warn('Not enough entries to sample without replacement. Consider increasing your warm-up phase to avoid oversampling!')\n"
     ]
    },
    {
     "name": "stdout",
     "output_type": "stream",
     "text": [
      "   141/100000: episode: 1, duration: 1.329s, episode steps: 141, steps per second: 106, episode reward: 141.000, mean reward: 1.000 [1.000, 1.000], mean action: 0.496 [0.000, 1.000], mean observation: 0.118 [-0.627, 0.709], loss: 0.175437, mean_absolute_error: 0.412029, mean_q: 0.655545\n",
      "   200/100000: episode: 2, duration: 0.139s, episode steps: 59, steps per second: 423, episode reward: 59.000, mean reward: 1.000 [1.000, 1.000], mean action: 0.475 [0.000, 1.000], mean observation: -0.100 [-0.746, 0.248], loss: 0.019771, mean_absolute_error: 0.600869, mean_q: 1.502709\n",
      "   262/100000: episode: 3, duration: 0.160s, episode steps: 62, steps per second: 387, episode reward: 62.000, mean reward: 1.000 [1.000, 1.000], mean action: 0.500 [0.000, 1.000], mean observation: 0.001 [-0.860, 0.357], loss: 0.015196, mean_absolute_error: 0.884652, mean_q: 1.923544\n",
      "   291/100000: episode: 4, duration: 0.064s, episode steps: 29, steps per second: 454, episode reward: 29.000, mean reward: 1.000 [1.000, 1.000], mean action: 0.552 [0.000, 1.000], mean observation: -0.074 [-1.445, 0.615], loss: 0.012124, mean_absolute_error: 1.100889, mean_q: 2.246168\n",
      "   325/100000: episode: 5, duration: 0.073s, episode steps: 34, steps per second: 468, episode reward: 34.000, mean reward: 1.000 [1.000, 1.000], mean action: 0.529 [0.000, 1.000], mean observation: -0.052 [-1.412, 0.648], loss: 0.015149, mean_absolute_error: 1.221427, mean_q: 2.442530\n",
      "   343/100000: episode: 6, duration: 0.040s, episode steps: 18, steps per second: 450, episode reward: 18.000, mean reward: 1.000 [1.000, 1.000], mean action: 0.667 [0.000, 1.000], mean observation: -0.097 [-2.203, 1.157], loss: 0.018800, mean_absolute_error: 1.321335, mean_q: 2.642989\n",
      "   409/100000: episode: 7, duration: 0.157s, episode steps: 66, steps per second: 421, episode reward: 66.000, mean reward: 1.000 [1.000, 1.000], mean action: 0.470 [0.000, 1.000], mean observation: -0.052 [-0.765, 1.129], loss: 0.028638, mean_absolute_error: 1.485823, mean_q: 2.971891\n",
      "   424/100000: episode: 8, duration: 0.091s, episode steps: 15, steps per second: 165, episode reward: 15.000, mean reward: 1.000 [1.000, 1.000], mean action: 0.467 [0.000, 1.000], mean observation: 0.080 [-0.939, 1.385], loss: 0.047689, mean_absolute_error: 1.648128, mean_q: 3.235927\n",
      "   437/100000: episode: 9, duration: 0.049s, episode steps: 13, steps per second: 267, episode reward: 13.000, mean reward: 1.000 [1.000, 1.000], mean action: 0.154 [0.000, 1.000], mean observation: 0.114 [-1.782, 2.894], loss: 0.054947, mean_absolute_error: 1.738796, mean_q: 3.399823\n",
      "   462/100000: episode: 10, duration: 0.057s, episode steps: 25, steps per second: 435, episode reward: 25.000, mean reward: 1.000 [1.000, 1.000], mean action: 0.280 [0.000, 1.000], mean observation: 0.048 [-2.132, 3.284], loss: 0.059686, mean_absolute_error: 1.823024, mean_q: 3.602594\n",
      "   475/100000: episode: 11, duration: 0.044s, episode steps: 13, steps per second: 295, episode reward: 13.000, mean reward: 1.000 [1.000, 1.000], mean action: 0.769 [0.000, 1.000], mean observation: -0.109 [-2.360, 1.418], loss: 0.172629, mean_absolute_error: 1.942946, mean_q: 3.759284\n",
      "   491/100000: episode: 12, duration: 0.036s, episode steps: 16, steps per second: 443, episode reward: 16.000, mean reward: 1.000 [1.000, 1.000], mean action: 0.500 [0.000, 1.000], mean observation: 0.069 [-1.014, 1.481], loss: 0.141465, mean_absolute_error: 1.995574, mean_q: 3.860466\n",
      "   508/100000: episode: 13, duration: 0.038s, episode steps: 17, steps per second: 451, episode reward: 17.000, mean reward: 1.000 [1.000, 1.000], mean action: 0.235 [0.000, 1.000], mean observation: 0.062 [-1.807, 2.798], loss: 0.113247, mean_absolute_error: 2.078580, mean_q: 4.044520\n",
      "   517/100000: episode: 14, duration: 0.020s, episode steps: 9, steps per second: 446, episode reward: 9.000, mean reward: 1.000 [1.000, 1.000], mean action: 0.111 [0.000, 1.000], mean observation: 0.168 [-1.523, 2.482], loss: 0.116578, mean_absolute_error: 2.051282, mean_q: 3.980325\n",
      "   535/100000: episode: 15, duration: 0.043s, episode steps: 18, steps per second: 420, episode reward: 18.000, mean reward: 1.000 [1.000, 1.000], mean action: 0.167 [0.000, 1.000], mean observation: 0.047 [-2.352, 3.418], loss: 0.207775, mean_absolute_error: 2.214707, mean_q: 4.279286\n",
      "   545/100000: episode: 16, duration: 0.022s, episode steps: 10, steps per second: 451, episode reward: 10.000, mean reward: 1.000 [1.000, 1.000], mean action: 0.000 [0.000, 0.000], mean observation: 0.120 [-1.995, 3.019], loss: 0.119345, mean_absolute_error: 2.231929, mean_q: 4.380437\n",
      "   562/100000: episode: 17, duration: 0.037s, episode steps: 17, steps per second: 462, episode reward: 17.000, mean reward: 1.000 [1.000, 1.000], mean action: 0.235 [0.000, 1.000], mean observation: 0.083 [-1.749, 2.824], loss: 0.300722, mean_absolute_error: 2.323840, mean_q: 4.484412\n",
      "   581/100000: episode: 18, duration: 0.058s, episode steps: 19, steps per second: 326, episode reward: 19.000, mean reward: 1.000 [1.000, 1.000], mean action: 0.211 [0.000, 1.000], mean observation: 0.033 [-2.139, 3.088], loss: 0.192815, mean_absolute_error: 2.417932, mean_q: 4.657057\n",
      "   590/100000: episode: 19, duration: 0.021s, episode steps: 9, steps per second: 420, episode reward: 9.000, mean reward: 1.000 [1.000, 1.000], mean action: 0.000 [0.000, 0.000], mean observation: 0.154 [-1.715, 2.744], loss: 0.152377, mean_absolute_error: 2.435453, mean_q: 4.796130\n",
      "   602/100000: episode: 20, duration: 0.028s, episode steps: 12, steps per second: 435, episode reward: 12.000, mean reward: 1.000 [1.000, 1.000], mean action: 0.083 [0.000, 1.000], mean observation: 0.108 [-1.939, 2.953], loss: 0.221107, mean_absolute_error: 2.511200, mean_q: 4.947770\n",
      "   636/100000: episode: 21, duration: 0.079s, episode steps: 34, steps per second: 429, episode reward: 34.000, mean reward: 1.000 [1.000, 1.000], mean action: 0.324 [0.000, 1.000], mean observation: 0.055 [-2.333, 3.447], loss: 0.296366, mean_absolute_error: 2.590683, mean_q: 4.972474\n",
      "   646/100000: episode: 22, duration: 0.024s, episode steps: 10, steps per second: 424, episode reward: 10.000, mean reward: 1.000 [1.000, 1.000], mean action: 0.000 [0.000, 0.000], mean observation: 0.139 [-1.953, 3.039], loss: 0.344333, mean_absolute_error: 2.708354, mean_q: 5.242631\n",
      "   655/100000: episode: 23, duration: 0.021s, episode steps: 9, steps per second: 427, episode reward: 9.000, mean reward: 1.000 [1.000, 1.000], mean action: 0.000 [0.000, 0.000], mean observation: 0.167 [-1.735, 2.891], loss: 0.268751, mean_absolute_error: 2.668949, mean_q: 5.201833\n",
      "   664/100000: episode: 24, duration: 0.021s, episode steps: 9, steps per second: 438, episode reward: 9.000, mean reward: 1.000 [1.000, 1.000], mean action: 0.000 [0.000, 0.000], mean observation: 0.167 [-1.741, 2.830], loss: 0.164594, mean_absolute_error: 2.767761, mean_q: 5.432075\n",
      "   673/100000: episode: 25, duration: 0.036s, episode steps: 9, steps per second: 253, episode reward: 9.000, mean reward: 1.000 [1.000, 1.000], mean action: 0.000 [0.000, 0.000], mean observation: 0.146 [-1.716, 2.807], loss: 0.330373, mean_absolute_error: 2.809637, mean_q: 5.450913\n",
      "   682/100000: episode: 26, duration: 0.038s, episode steps: 9, steps per second: 239, episode reward: 9.000, mean reward: 1.000 [1.000, 1.000], mean action: 0.111 [0.000, 1.000], mean observation: 0.145 [-1.571, 2.494], loss: 0.297847, mean_absolute_error: 2.822865, mean_q: 5.468284\n",
      "   695/100000: episode: 27, duration: 0.030s, episode steps: 13, steps per second: 434, episode reward: 13.000, mean reward: 1.000 [1.000, 1.000], mean action: 0.231 [0.000, 1.000], mean observation: 0.092 [-1.615, 2.508], loss: 0.297685, mean_absolute_error: 2.919373, mean_q: 5.662529\n",
      "   704/100000: episode: 28, duration: 0.021s, episode steps: 9, steps per second: 426, episode reward: 9.000, mean reward: 1.000 [1.000, 1.000], mean action: 0.222 [0.000, 1.000], mean observation: 0.117 [-1.185, 1.860], loss: 0.477948, mean_absolute_error: 2.953923, mean_q: 5.555336\n",
      "   722/100000: episode: 29, duration: 0.042s, episode steps: 18, steps per second: 433, episode reward: 18.000, mean reward: 1.000 [1.000, 1.000], mean action: 0.333 [0.000, 1.000], mean observation: 0.054 [-1.589, 2.256], loss: 0.324350, mean_absolute_error: 2.998573, mean_q: 5.746031\n",
      "   731/100000: episode: 30, duration: 0.022s, episode steps: 9, steps per second: 403, episode reward: 9.000, mean reward: 1.000 [1.000, 1.000], mean action: 0.222 [0.000, 1.000], mean observation: 0.144 [-1.144, 1.821], loss: 0.327938, mean_absolute_error: 3.027209, mean_q: 5.835251\n",
      "   740/100000: episode: 31, duration: 0.033s, episode steps: 9, steps per second: 271, episode reward: 9.000, mean reward: 1.000 [1.000, 1.000], mean action: 0.222 [0.000, 1.000], mean observation: 0.145 [-1.151, 1.940], loss: 0.209679, mean_absolute_error: 3.042327, mean_q: 5.975354\n"
     ]
    },
    {
     "name": "stdout",
     "output_type": "stream",
     "text": [
      "   749/100000: episode: 32, duration: 0.046s, episode steps: 9, steps per second: 194, episode reward: 9.000, mean reward: 1.000 [1.000, 1.000], mean action: 0.222 [0.000, 1.000], mean observation: 0.123 [-1.209, 1.815], loss: 0.283052, mean_absolute_error: 3.096834, mean_q: 6.037265\n",
      "   758/100000: episode: 33, duration: 0.023s, episode steps: 9, steps per second: 383, episode reward: 9.000, mean reward: 1.000 [1.000, 1.000], mean action: 0.222 [0.000, 1.000], mean observation: 0.146 [-1.136, 1.916], loss: 0.473171, mean_absolute_error: 3.142061, mean_q: 5.984330\n",
      "   768/100000: episode: 34, duration: 0.024s, episode steps: 10, steps per second: 421, episode reward: 10.000, mean reward: 1.000 [1.000, 1.000], mean action: 0.200 [0.000, 1.000], mean observation: 0.128 [-1.350, 2.137], loss: 0.402748, mean_absolute_error: 3.182236, mean_q: 6.166202\n",
      "   777/100000: episode: 35, duration: 0.021s, episode steps: 9, steps per second: 425, episode reward: 9.000, mean reward: 1.000 [1.000, 1.000], mean action: 0.000 [0.000, 0.000], mean observation: 0.168 [-1.752, 2.885], loss: 0.361621, mean_absolute_error: 3.168847, mean_q: 6.110140\n",
      "   786/100000: episode: 36, duration: 0.028s, episode steps: 9, steps per second: 319, episode reward: 9.000, mean reward: 1.000 [1.000, 1.000], mean action: 0.000 [0.000, 0.000], mean observation: 0.148 [-1.729, 2.830], loss: 0.320714, mean_absolute_error: 3.206836, mean_q: 6.284680\n",
      "   796/100000: episode: 37, duration: 0.030s, episode steps: 10, steps per second: 337, episode reward: 10.000, mean reward: 1.000 [1.000, 1.000], mean action: 0.100 [0.000, 1.000], mean observation: 0.120 [-1.788, 2.680], loss: 0.379619, mean_absolute_error: 3.270895, mean_q: 6.293075\n",
      "   805/100000: episode: 38, duration: 0.033s, episode steps: 9, steps per second: 270, episode reward: 9.000, mean reward: 1.000 [1.000, 1.000], mean action: 0.000 [0.000, 0.000], mean observation: 0.170 [-1.750, 2.871], loss: 0.267644, mean_absolute_error: 3.244888, mean_q: 6.328799\n",
      "   814/100000: episode: 39, duration: 0.026s, episode steps: 9, steps per second: 343, episode reward: 9.000, mean reward: 1.000 [1.000, 1.000], mean action: 0.000 [0.000, 0.000], mean observation: 0.162 [-1.781, 2.893], loss: 0.357770, mean_absolute_error: 3.285355, mean_q: 6.499798\n",
      "   824/100000: episode: 40, duration: 0.043s, episode steps: 10, steps per second: 233, episode reward: 10.000, mean reward: 1.000 [1.000, 1.000], mean action: 0.000 [0.000, 0.000], mean observation: 0.117 [-1.980, 3.032], loss: 0.198080, mean_absolute_error: 3.278571, mean_q: 6.517842\n",
      "   833/100000: episode: 41, duration: 0.026s, episode steps: 9, steps per second: 351, episode reward: 9.000, mean reward: 1.000 [1.000, 1.000], mean action: 0.000 [0.000, 0.000], mean observation: 0.150 [-1.712, 2.780], loss: 0.358703, mean_absolute_error: 3.345331, mean_q: 6.516614\n",
      "   842/100000: episode: 42, duration: 0.025s, episode steps: 9, steps per second: 362, episode reward: 9.000, mean reward: 1.000 [1.000, 1.000], mean action: 0.000 [0.000, 0.000], mean observation: 0.148 [-1.749, 2.761], loss: 0.264867, mean_absolute_error: 3.386842, mean_q: 6.630331\n",
      "   852/100000: episode: 43, duration: 0.028s, episode steps: 10, steps per second: 356, episode reward: 10.000, mean reward: 1.000 [1.000, 1.000], mean action: 0.000 [0.000, 0.000], mean observation: 0.139 [-1.992, 3.133], loss: 0.309118, mean_absolute_error: 3.430342, mean_q: 6.699877\n",
      "   862/100000: episode: 44, duration: 0.026s, episode steps: 10, steps per second: 385, episode reward: 10.000, mean reward: 1.000 [1.000, 1.000], mean action: 0.000 [0.000, 0.000], mean observation: 0.142 [-1.970, 3.068], loss: 0.332213, mean_absolute_error: 3.371807, mean_q: 6.559846\n",
      "   872/100000: episode: 45, duration: 0.026s, episode steps: 10, steps per second: 386, episode reward: 10.000, mean reward: 1.000 [1.000, 1.000], mean action: 0.000 [0.000, 0.000], mean observation: 0.135 [-1.911, 3.003], loss: 0.240107, mean_absolute_error: 3.465646, mean_q: 6.886004\n",
      "   882/100000: episode: 46, duration: 0.028s, episode steps: 10, steps per second: 351, episode reward: 10.000, mean reward: 1.000 [1.000, 1.000], mean action: 0.000 [0.000, 0.000], mean observation: 0.125 [-1.954, 3.039], loss: 0.295845, mean_absolute_error: 3.436539, mean_q: 6.721217\n",
      "   898/100000: episode: 47, duration: 0.035s, episode steps: 16, steps per second: 453, episode reward: 16.000, mean reward: 1.000 [1.000, 1.000], mean action: 0.250 [0.000, 1.000], mean observation: 0.096 [-1.576, 2.682], loss: 0.233093, mean_absolute_error: 3.492687, mean_q: 6.862580\n",
      "   908/100000: episode: 48, duration: 0.035s, episode steps: 10, steps per second: 286, episode reward: 10.000, mean reward: 1.000 [1.000, 1.000], mean action: 0.000 [0.000, 0.000], mean observation: 0.142 [-1.993, 3.097], loss: 0.222275, mean_absolute_error: 3.547218, mean_q: 7.074161\n",
      "   918/100000: episode: 49, duration: 0.026s, episode steps: 10, steps per second: 382, episode reward: 10.000, mean reward: 1.000 [1.000, 1.000], mean action: 0.000 [0.000, 0.000], mean observation: 0.143 [-1.991, 3.126], loss: 0.292112, mean_absolute_error: 3.581160, mean_q: 6.927766\n",
      "   928/100000: episode: 50, duration: 0.033s, episode steps: 10, steps per second: 306, episode reward: 10.000, mean reward: 1.000 [1.000, 1.000], mean action: 0.000 [0.000, 0.000], mean observation: 0.116 [-1.972, 3.017], loss: 0.231486, mean_absolute_error: 3.634944, mean_q: 7.124898\n",
      "  1034/100000: episode: 51, duration: 0.289s, episode steps: 106, steps per second: 366, episode reward: 106.000, mean reward: 1.000 [1.000, 1.000], mean action: 0.547 [0.000, 1.000], mean observation: 0.237 [-0.255, 1.809], loss: 0.193558, mean_absolute_error: 3.738039, mean_q: 7.336011\n",
      "  1076/100000: episode: 52, duration: 0.196s, episode steps: 42, steps per second: 215, episode reward: 42.000, mean reward: 1.000 [1.000, 1.000], mean action: 0.476 [0.000, 1.000], mean observation: -0.095 [-0.642, 0.163], loss: 0.168168, mean_absolute_error: 4.006977, mean_q: 7.957038\n",
      "  1123/100000: episode: 53, duration: 0.261s, episode steps: 47, steps per second: 180, episode reward: 47.000, mean reward: 1.000 [1.000, 1.000], mean action: 0.489 [0.000, 1.000], mean observation: -0.140 [-1.063, 0.357], loss: 0.298323, mean_absolute_error: 4.186881, mean_q: 8.281255\n",
      "  1195/100000: episode: 54, duration: 0.313s, episode steps: 72, steps per second: 230, episode reward: 72.000, mean reward: 1.000 [1.000, 1.000], mean action: 0.458 [0.000, 1.000], mean observation: -0.205 [-1.117, 0.292], loss: 0.360946, mean_absolute_error: 4.431034, mean_q: 8.785374\n",
      "  1292/100000: episode: 55, duration: 0.227s, episode steps: 97, steps per second: 427, episode reward: 97.000, mean reward: 1.000 [1.000, 1.000], mean action: 0.485 [0.000, 1.000], mean observation: -0.080 [-1.162, 0.846], loss: 0.376472, mean_absolute_error: 4.763579, mean_q: 9.435302\n",
      "  1363/100000: episode: 56, duration: 0.151s, episode steps: 71, steps per second: 470, episode reward: 71.000, mean reward: 1.000 [1.000, 1.000], mean action: 0.479 [0.000, 1.000], mean observation: -0.215 [-1.042, 0.569], loss: 0.537254, mean_absolute_error: 5.054942, mean_q: 10.008756\n",
      "  1434/100000: episode: 57, duration: 0.198s, episode steps: 71, steps per second: 359, episode reward: 71.000, mean reward: 1.000 [1.000, 1.000], mean action: 0.451 [0.000, 1.000], mean observation: -0.178 [-1.219, 0.265], loss: 0.359079, mean_absolute_error: 5.340862, mean_q: 10.678174\n",
      "  1601/100000: episode: 58, duration: 0.547s, episode steps: 167, steps per second: 305, episode reward: 167.000, mean reward: 1.000 [1.000, 1.000], mean action: 0.491 [0.000, 1.000], mean observation: 0.056 [-0.710, 0.427], loss: 0.435177, mean_absolute_error: 5.747879, mean_q: 11.523338\n",
      "  1716/100000: episode: 59, duration: 0.332s, episode steps: 115, steps per second: 347, episode reward: 115.000, mean reward: 1.000 [1.000, 1.000], mean action: 0.470 [0.000, 1.000], mean observation: -0.248 [-1.314, 0.328], loss: 0.639374, mean_absolute_error: 6.299490, mean_q: 12.573858\n",
      "  1839/100000: episode: 60, duration: 0.376s, episode steps: 123, steps per second: 327, episode reward: 123.000, mean reward: 1.000 [1.000, 1.000], mean action: 0.463 [0.000, 1.000], mean observation: -0.285 [-1.684, 0.260], loss: 0.441216, mean_absolute_error: 6.705626, mean_q: 13.514446\n"
     ]
    },
    {
     "name": "stdout",
     "output_type": "stream",
     "text": [
      "  1986/100000: episode: 61, duration: 0.328s, episode steps: 147, steps per second: 448, episode reward: 147.000, mean reward: 1.000 [1.000, 1.000], mean action: 0.463 [0.000, 1.000], mean observation: -0.322 [-1.960, 0.345], loss: 0.594766, mean_absolute_error: 7.157436, mean_q: 14.390363\n",
      "  2099/100000: episode: 62, duration: 0.366s, episode steps: 113, steps per second: 309, episode reward: 113.000, mean reward: 1.000 [1.000, 1.000], mean action: 0.451 [0.000, 1.000], mean observation: -0.335 [-2.047, 0.308], loss: 0.636369, mean_absolute_error: 7.618752, mean_q: 15.343749\n",
      "  2233/100000: episode: 63, duration: 0.651s, episode steps: 134, steps per second: 206, episode reward: 134.000, mean reward: 1.000 [1.000, 1.000], mean action: 0.463 [0.000, 1.000], mean observation: -0.368 [-1.884, 0.328], loss: 0.572585, mean_absolute_error: 8.075066, mean_q: 16.271688\n",
      "  2368/100000: episode: 64, duration: 0.308s, episode steps: 135, steps per second: 439, episode reward: 135.000, mean reward: 1.000 [1.000, 1.000], mean action: 0.467 [0.000, 1.000], mean observation: -0.303 [-1.836, 0.316], loss: 0.806146, mean_absolute_error: 8.484375, mean_q: 17.086740\n",
      "  2487/100000: episode: 65, duration: 0.344s, episode steps: 119, steps per second: 346, episode reward: 119.000, mean reward: 1.000 [1.000, 1.000], mean action: 0.454 [0.000, 1.000], mean observation: -0.343 [-1.975, 0.275], loss: 0.704692, mean_absolute_error: 8.793533, mean_q: 17.748688\n",
      "  2624/100000: episode: 66, duration: 0.319s, episode steps: 137, steps per second: 429, episode reward: 137.000, mean reward: 1.000 [1.000, 1.000], mean action: 0.460 [0.000, 1.000], mean observation: -0.339 [-1.960, 0.328], loss: 0.924107, mean_absolute_error: 9.205802, mean_q: 18.583963\n",
      "  2738/100000: episode: 67, duration: 0.266s, episode steps: 114, steps per second: 429, episode reward: 114.000, mean reward: 1.000 [1.000, 1.000], mean action: 0.456 [0.000, 1.000], mean observation: -0.339 [-1.805, 0.305], loss: 0.696003, mean_absolute_error: 9.618012, mean_q: 19.459343\n",
      "  2911/100000: episode: 68, duration: 0.652s, episode steps: 173, steps per second: 265, episode reward: 173.000, mean reward: 1.000 [1.000, 1.000], mean action: 0.468 [0.000, 1.000], mean observation: -0.239 [-2.006, 0.274], loss: 0.606463, mean_absolute_error: 10.039804, mean_q: 20.370218\n",
      "  3085/100000: episode: 69, duration: 0.406s, episode steps: 174, steps per second: 429, episode reward: 174.000, mean reward: 1.000 [1.000, 1.000], mean action: 0.471 [0.000, 1.000], mean observation: -0.277 [-1.840, 0.363], loss: 0.783241, mean_absolute_error: 10.553464, mean_q: 21.327065\n",
      "  3237/100000: episode: 70, duration: 0.420s, episode steps: 152, steps per second: 362, episode reward: 152.000, mean reward: 1.000 [1.000, 1.000], mean action: 0.467 [0.000, 1.000], mean observation: -0.306 [-1.809, 0.354], loss: 0.839384, mean_absolute_error: 11.045082, mean_q: 22.417894\n",
      "  3388/100000: episode: 71, duration: 0.353s, episode steps: 151, steps per second: 427, episode reward: 151.000, mean reward: 1.000 [1.000, 1.000], mean action: 0.464 [0.000, 1.000], mean observation: -0.326 [-2.005, 0.290], loss: 0.631634, mean_absolute_error: 11.535575, mean_q: 23.528870\n",
      "  3527/100000: episode: 72, duration: 0.365s, episode steps: 139, steps per second: 381, episode reward: 139.000, mean reward: 1.000 [1.000, 1.000], mean action: 0.460 [0.000, 1.000], mean observation: -0.345 [-1.989, 0.320], loss: 0.920522, mean_absolute_error: 11.898634, mean_q: 24.198320\n",
      "  3651/100000: episode: 73, duration: 0.368s, episode steps: 124, steps per second: 337, episode reward: 124.000, mean reward: 1.000 [1.000, 1.000], mean action: 0.460 [0.000, 1.000], mean observation: -0.355 [-1.855, 0.282], loss: 0.735043, mean_absolute_error: 12.213391, mean_q: 24.850868\n",
      "  3811/100000: episode: 74, duration: 0.363s, episode steps: 160, steps per second: 441, episode reward: 160.000, mean reward: 1.000 [1.000, 1.000], mean action: 0.469 [0.000, 1.000], mean observation: -0.286 [-1.851, 0.279], loss: 0.668963, mean_absolute_error: 12.588678, mean_q: 25.678396\n",
      "  3946/100000: episode: 75, duration: 0.327s, episode steps: 135, steps per second: 413, episode reward: 135.000, mean reward: 1.000 [1.000, 1.000], mean action: 0.459 [0.000, 1.000], mean observation: -0.332 [-2.004, 0.498], loss: 0.668009, mean_absolute_error: 13.010093, mean_q: 26.586939\n",
      "  4095/100000: episode: 76, duration: 0.337s, episode steps: 149, steps per second: 442, episode reward: 149.000, mean reward: 1.000 [1.000, 1.000], mean action: 0.463 [0.000, 1.000], mean observation: -0.314 [-1.959, 0.333], loss: 0.528895, mean_absolute_error: 13.414968, mean_q: 27.407236\n",
      "  4243/100000: episode: 77, duration: 0.361s, episode steps: 148, steps per second: 410, episode reward: 148.000, mean reward: 1.000 [1.000, 1.000], mean action: 0.466 [0.000, 1.000], mean observation: -0.322 [-1.864, 0.300], loss: 0.596297, mean_absolute_error: 13.761081, mean_q: 28.222982\n",
      "  4378/100000: episode: 78, duration: 0.442s, episode steps: 135, steps per second: 306, episode reward: 135.000, mean reward: 1.000 [1.000, 1.000], mean action: 0.459 [0.000, 1.000], mean observation: -0.347 [-2.004, 0.276], loss: 0.578268, mean_absolute_error: 14.184237, mean_q: 29.054688\n",
      "  4503/100000: episode: 79, duration: 0.296s, episode steps: 125, steps per second: 422, episode reward: 125.000, mean reward: 1.000 [1.000, 1.000], mean action: 0.456 [0.000, 1.000], mean observation: -0.377 [-2.045, 0.278], loss: 0.768041, mean_absolute_error: 14.484801, mean_q: 29.608210\n",
      "  4650/100000: episode: 80, duration: 0.326s, episode steps: 147, steps per second: 451, episode reward: 147.000, mean reward: 1.000 [1.000, 1.000], mean action: 0.463 [0.000, 1.000], mean observation: -0.322 [-2.042, 0.332], loss: 0.758721, mean_absolute_error: 14.820829, mean_q: 30.283854\n",
      "  4794/100000: episode: 81, duration: 0.434s, episode steps: 144, steps per second: 332, episode reward: 144.000, mean reward: 1.000 [1.000, 1.000], mean action: 0.465 [0.000, 1.000], mean observation: -0.309 [-1.790, 0.357], loss: 0.598010, mean_absolute_error: 15.081295, mean_q: 30.891951\n",
      "  4994/100000: episode: 82, duration: 0.485s, episode steps: 200, steps per second: 413, episode reward: 200.000, mean reward: 1.000 [1.000, 1.000], mean action: 0.485 [0.000, 1.000], mean observation: -0.135 [-1.274, 0.390], loss: 0.625876, mean_absolute_error: 15.483782, mean_q: 31.781288\n",
      "  5130/100000: episode: 83, duration: 0.391s, episode steps: 136, steps per second: 347, episode reward: 136.000, mean reward: 1.000 [1.000, 1.000], mean action: 0.463 [0.000, 1.000], mean observation: -0.323 [-1.828, 0.293], loss: 0.403245, mean_absolute_error: 15.974251, mean_q: 32.797554\n",
      "  5320/100000: episode: 84, duration: 0.705s, episode steps: 190, steps per second: 270, episode reward: 190.000, mean reward: 1.000 [1.000, 1.000], mean action: 0.474 [0.000, 1.000], mean observation: -0.245 [-1.988, 0.398], loss: 0.603709, mean_absolute_error: 16.431108, mean_q: 33.705868\n",
      "  5437/100000: episode: 85, duration: 0.342s, episode steps: 117, steps per second: 342, episode reward: 117.000, mean reward: 1.000 [1.000, 1.000], mean action: 0.453 [0.000, 1.000], mean observation: -0.401 [-1.993, 0.297], loss: 0.434005, mean_absolute_error: 16.611416, mean_q: 34.110336\n",
      "  5637/100000: episode: 86, duration: 0.471s, episode steps: 200, steps per second: 424, episode reward: 200.000, mean reward: 1.000 [1.000, 1.000], mean action: 0.480 [0.000, 1.000], mean observation: -0.182 [-1.620, 0.404], loss: 0.553817, mean_absolute_error: 16.928255, mean_q: 34.780373\n",
      "  5763/100000: episode: 87, duration: 0.337s, episode steps: 126, steps per second: 374, episode reward: 126.000, mean reward: 1.000 [1.000, 1.000], mean action: 0.460 [0.000, 1.000], mean observation: -0.371 [-1.854, 0.321], loss: 0.959831, mean_absolute_error: 17.359488, mean_q: 35.540012\n",
      "  5916/100000: episode: 88, duration: 0.332s, episode steps: 153, steps per second: 461, episode reward: 153.000, mean reward: 1.000 [1.000, 1.000], mean action: 0.464 [0.000, 1.000], mean observation: -0.309 [-1.957, 0.311], loss: 0.615000, mean_absolute_error: 17.603075, mean_q: 36.055164\n",
      "  6079/100000: episode: 89, duration: 0.399s, episode steps: 163, steps per second: 408, episode reward: 163.000, mean reward: 1.000 [1.000, 1.000], mean action: 0.466 [0.000, 1.000], mean observation: -0.271 [-2.011, 0.330], loss: 0.545282, mean_absolute_error: 17.850407, mean_q: 36.630196\n"
     ]
    },
    {
     "name": "stdout",
     "output_type": "stream",
     "text": [
      "  6218/100000: episode: 90, duration: 0.343s, episode steps: 139, steps per second: 406, episode reward: 139.000, mean reward: 1.000 [1.000, 1.000], mean action: 0.460 [0.000, 1.000], mean observation: -0.314 [-2.025, 0.277], loss: 0.426225, mean_absolute_error: 18.209860, mean_q: 37.432968\n",
      "  6340/100000: episode: 91, duration: 0.293s, episode steps: 122, steps per second: 416, episode reward: 122.000, mean reward: 1.000 [1.000, 1.000], mean action: 0.459 [0.000, 1.000], mean observation: -0.365 [-1.833, 0.349], loss: 0.466377, mean_absolute_error: 18.513510, mean_q: 38.006458\n",
      "  6477/100000: episode: 92, duration: 0.299s, episode steps: 137, steps per second: 458, episode reward: 137.000, mean reward: 1.000 [1.000, 1.000], mean action: 0.460 [0.000, 1.000], mean observation: -0.350 [-1.954, 0.318], loss: 0.814401, mean_absolute_error: 18.672670, mean_q: 38.293419\n",
      "  6677/100000: episode: 93, duration: 0.780s, episode steps: 200, steps per second: 257, episode reward: 200.000, mean reward: 1.000 [1.000, 1.000], mean action: 0.475 [0.000, 1.000], mean observation: -0.227 [-2.015, 0.370], loss: 0.782395, mean_absolute_error: 18.897228, mean_q: 38.806847\n",
      "  6822/100000: episode: 94, duration: 0.342s, episode steps: 145, steps per second: 424, episode reward: 145.000, mean reward: 1.000 [1.000, 1.000], mean action: 0.462 [0.000, 1.000], mean observation: -0.339 [-2.004, 0.359], loss: 0.586233, mean_absolute_error: 19.167330, mean_q: 39.356560\n",
      "  6960/100000: episode: 95, duration: 0.455s, episode steps: 138, steps per second: 303, episode reward: 138.000, mean reward: 1.000 [1.000, 1.000], mean action: 0.428 [0.000, 1.000], mean observation: -0.427 [-3.716, 1.868], loss: 0.381492, mean_absolute_error: 19.466076, mean_q: 39.969288\n",
      "  7078/100000: episode: 96, duration: 0.260s, episode steps: 118, steps per second: 455, episode reward: 118.000, mean reward: 1.000 [1.000, 1.000], mean action: 0.449 [0.000, 1.000], mean observation: -0.402 [-2.204, 0.304], loss: 0.581034, mean_absolute_error: 19.443996, mean_q: 39.937756\n",
      "  7207/100000: episode: 97, duration: 0.278s, episode steps: 129, steps per second: 465, episode reward: 129.000, mean reward: 1.000 [1.000, 1.000], mean action: 0.457 [0.000, 1.000], mean observation: -0.361 [-1.976, 0.322], loss: 0.714044, mean_absolute_error: 19.595516, mean_q: 40.205532\n",
      "  7329/100000: episode: 98, duration: 0.384s, episode steps: 122, steps per second: 317, episode reward: 122.000, mean reward: 1.000 [1.000, 1.000], mean action: 0.459 [0.000, 1.000], mean observation: -0.360 [-1.839, 0.297], loss: 0.336319, mean_absolute_error: 19.943079, mean_q: 40.933655\n",
      "  7460/100000: episode: 99, duration: 0.310s, episode steps: 131, steps per second: 422, episode reward: 131.000, mean reward: 1.000 [1.000, 1.000], mean action: 0.458 [0.000, 1.000], mean observation: -0.348 [-2.052, 0.320], loss: 0.446023, mean_absolute_error: 20.062281, mean_q: 41.171040\n",
      "  7627/100000: episode: 100, duration: 0.361s, episode steps: 167, steps per second: 462, episode reward: 167.000, mean reward: 1.000 [1.000, 1.000], mean action: 0.467 [0.000, 1.000], mean observation: -0.283 [-1.999, 0.318], loss: 0.415494, mean_absolute_error: 20.146017, mean_q: 41.383427\n",
      "  7793/100000: episode: 101, duration: 0.428s, episode steps: 166, steps per second: 388, episode reward: 166.000, mean reward: 1.000 [1.000, 1.000], mean action: 0.464 [0.000, 1.000], mean observation: -0.314 [-2.169, 0.368], loss: 0.597349, mean_absolute_error: 20.542902, mean_q: 42.221470\n",
      "  7923/100000: episode: 102, duration: 0.282s, episode steps: 130, steps per second: 461, episode reward: 130.000, mean reward: 1.000 [1.000, 1.000], mean action: 0.462 [0.000, 1.000], mean observation: -0.361 [-1.850, 0.305], loss: 0.581397, mean_absolute_error: 20.692938, mean_q: 42.524628\n",
      "  8086/100000: episode: 103, duration: 0.362s, episode steps: 163, steps per second: 451, episode reward: 163.000, mean reward: 1.000 [1.000, 1.000], mean action: 0.466 [0.000, 1.000], mean observation: -0.295 [-2.047, 0.459], loss: 0.835914, mean_absolute_error: 20.986904, mean_q: 43.108685\n",
      "  8224/100000: episode: 104, duration: 0.331s, episode steps: 138, steps per second: 417, episode reward: 138.000, mean reward: 1.000 [1.000, 1.000], mean action: 0.464 [0.000, 1.000], mean observation: -0.330 [-1.840, 0.331], loss: 0.774881, mean_absolute_error: 21.352585, mean_q: 43.731258\n",
      "  8357/100000: episode: 105, duration: 0.295s, episode steps: 133, steps per second: 450, episode reward: 133.000, mean reward: 1.000 [1.000, 1.000], mean action: 0.459 [0.000, 1.000], mean observation: -0.362 [-2.020, 0.321], loss: 0.586155, mean_absolute_error: 21.551439, mean_q: 44.231651\n",
      "  8480/100000: episode: 106, duration: 0.270s, episode steps: 123, steps per second: 455, episode reward: 123.000, mean reward: 1.000 [1.000, 1.000], mean action: 0.455 [0.000, 1.000], mean observation: -0.387 [-1.984, 0.339], loss: 0.669173, mean_absolute_error: 21.306255, mean_q: 43.815197\n",
      "  8627/100000: episode: 107, duration: 0.538s, episode steps: 147, steps per second: 273, episode reward: 147.000, mean reward: 1.000 [1.000, 1.000], mean action: 0.463 [0.000, 1.000], mean observation: -0.336 [-1.996, 0.322], loss: 0.568933, mean_absolute_error: 21.522354, mean_q: 44.151459\n",
      "  8785/100000: episode: 108, duration: 0.415s, episode steps: 158, steps per second: 380, episode reward: 158.000, mean reward: 1.000 [1.000, 1.000], mean action: 0.462 [0.000, 1.000], mean observation: -0.311 [-2.143, 0.319], loss: 0.680653, mean_absolute_error: 21.436733, mean_q: 44.003784\n",
      "  8913/100000: episode: 109, duration: 0.439s, episode steps: 128, steps per second: 292, episode reward: 128.000, mean reward: 1.000 [1.000, 1.000], mean action: 0.453 [0.000, 1.000], mean observation: -0.372 [-2.189, 0.305], loss: 0.529524, mean_absolute_error: 22.039211, mean_q: 45.220406\n",
      "  9090/100000: episode: 110, duration: 0.400s, episode steps: 177, steps per second: 442, episode reward: 177.000, mean reward: 1.000 [1.000, 1.000], mean action: 0.446 [0.000, 1.000], mean observation: -0.339 [-3.539, 1.439], loss: 0.446637, mean_absolute_error: 22.108585, mean_q: 45.365818\n",
      "  9213/100000: episode: 111, duration: 0.283s, episode steps: 123, steps per second: 434, episode reward: 123.000, mean reward: 1.000 [1.000, 1.000], mean action: 0.447 [0.000, 1.000], mean observation: -0.408 [-2.330, 0.412], loss: 0.437538, mean_absolute_error: 22.168425, mean_q: 45.453476\n",
      "  9371/100000: episode: 112, duration: 0.443s, episode steps: 158, steps per second: 357, episode reward: 158.000, mean reward: 1.000 [1.000, 1.000], mean action: 0.462 [0.000, 1.000], mean observation: -0.328 [-2.210, 0.292], loss: 0.517818, mean_absolute_error: 22.467712, mean_q: 45.996407\n",
      "  9521/100000: episode: 113, duration: 0.327s, episode steps: 150, steps per second: 458, episode reward: 150.000, mean reward: 1.000 [1.000, 1.000], mean action: 0.460 [0.000, 1.000], mean observation: -0.349 [-2.183, 0.392], loss: 0.560872, mean_absolute_error: 22.453381, mean_q: 45.898983\n",
      "  9663/100000: episode: 114, duration: 0.402s, episode steps: 142, steps per second: 353, episode reward: 142.000, mean reward: 1.000 [1.000, 1.000], mean action: 0.430 [0.000, 1.000], mean observation: -0.419 [-3.672, 1.692], loss: 0.548334, mean_absolute_error: 22.589859, mean_q: 46.160923\n",
      "  9805/100000: episode: 115, duration: 0.628s, episode steps: 142, steps per second: 226, episode reward: 142.000, mean reward: 1.000 [1.000, 1.000], mean action: 0.458 [0.000, 1.000], mean observation: -0.344 [-2.193, 0.380], loss: 0.573767, mean_absolute_error: 22.650549, mean_q: 46.339329\n",
      "  9927/100000: episode: 116, duration: 0.471s, episode steps: 122, steps per second: 259, episode reward: 122.000, mean reward: 1.000 [1.000, 1.000], mean action: 0.451 [0.000, 1.000], mean observation: -0.426 [-2.199, 0.373], loss: 0.656651, mean_absolute_error: 22.950054, mean_q: 46.962955\n",
      " 10054/100000: episode: 117, duration: 0.331s, episode steps: 127, steps per second: 384, episode reward: 127.000, mean reward: 1.000 [1.000, 1.000], mean action: 0.457 [0.000, 1.000], mean observation: -0.404 [-2.048, 0.341], loss: 0.660455, mean_absolute_error: 22.816370, mean_q: 46.788738\n"
     ]
    },
    {
     "name": "stdout",
     "output_type": "stream",
     "text": [
      " 10190/100000: episode: 118, duration: 0.362s, episode steps: 136, steps per second: 375, episode reward: 136.000, mean reward: 1.000 [1.000, 1.000], mean action: 0.456 [0.000, 1.000], mean observation: -0.388 [-2.158, 0.294], loss: 0.668896, mean_absolute_error: 22.953077, mean_q: 47.008106\n",
      " 10318/100000: episode: 119, duration: 0.343s, episode steps: 128, steps per second: 373, episode reward: 128.000, mean reward: 1.000 [1.000, 1.000], mean action: 0.453 [0.000, 1.000], mean observation: -0.387 [-2.193, 0.343], loss: 0.530298, mean_absolute_error: 22.970858, mean_q: 47.062469\n",
      " 10476/100000: episode: 120, duration: 0.363s, episode steps: 158, steps per second: 435, episode reward: 158.000, mean reward: 1.000 [1.000, 1.000], mean action: 0.462 [0.000, 1.000], mean observation: -0.329 [-2.165, 0.325], loss: 0.646032, mean_absolute_error: 23.374964, mean_q: 47.897354\n",
      " 10639/100000: episode: 121, duration: 0.435s, episode steps: 163, steps per second: 374, episode reward: 163.000, mean reward: 1.000 [1.000, 1.000], mean action: 0.466 [0.000, 1.000], mean observation: -0.313 [-2.017, 0.288], loss: 0.645347, mean_absolute_error: 23.460737, mean_q: 48.072006\n",
      " 10772/100000: episode: 122, duration: 0.382s, episode steps: 133, steps per second: 349, episode reward: 133.000, mean reward: 1.000 [1.000, 1.000], mean action: 0.459 [0.000, 1.000], mean observation: -0.386 [-2.043, 0.366], loss: 0.635215, mean_absolute_error: 23.734779, mean_q: 48.539181\n",
      " 10929/100000: episode: 123, duration: 0.338s, episode steps: 157, steps per second: 465, episode reward: 157.000, mean reward: 1.000 [1.000, 1.000], mean action: 0.465 [0.000, 1.000], mean observation: -0.333 [-2.037, 0.354], loss: 0.895703, mean_absolute_error: 23.470823, mean_q: 47.926365\n",
      " 11083/100000: episode: 124, duration: 0.382s, episode steps: 154, steps per second: 403, episode reward: 154.000, mean reward: 1.000 [1.000, 1.000], mean action: 0.461 [0.000, 1.000], mean observation: -0.353 [-2.154, 0.299], loss: 0.508156, mean_absolute_error: 23.583923, mean_q: 48.272461\n",
      " 11220/100000: episode: 125, duration: 0.296s, episode steps: 137, steps per second: 463, episode reward: 137.000, mean reward: 1.000 [1.000, 1.000], mean action: 0.460 [0.000, 1.000], mean observation: -0.352 [-1.993, 0.347], loss: 0.885629, mean_absolute_error: 23.848545, mean_q: 48.774910\n",
      " 11385/100000: episode: 126, duration: 0.353s, episode steps: 165, steps per second: 467, episode reward: 165.000, mean reward: 1.000 [1.000, 1.000], mean action: 0.467 [0.000, 1.000], mean observation: -0.295 [-1.952, 0.435], loss: 0.442086, mean_absolute_error: 23.935349, mean_q: 48.875149\n",
      " 11555/100000: episode: 127, duration: 0.444s, episode steps: 170, steps per second: 383, episode reward: 170.000, mean reward: 1.000 [1.000, 1.000], mean action: 0.465 [0.000, 1.000], mean observation: -0.283 [-2.195, 0.378], loss: 0.509558, mean_absolute_error: 24.144480, mean_q: 49.297031\n",
      " 11688/100000: episode: 128, duration: 0.293s, episode steps: 133, steps per second: 453, episode reward: 133.000, mean reward: 1.000 [1.000, 1.000], mean action: 0.459 [0.000, 1.000], mean observation: -0.355 [-1.965, 0.307], loss: 0.719851, mean_absolute_error: 24.144018, mean_q: 49.298176\n",
      " 11853/100000: episode: 129, duration: 0.363s, episode steps: 165, steps per second: 454, episode reward: 165.000, mean reward: 1.000 [1.000, 1.000], mean action: 0.467 [0.000, 1.000], mean observation: -0.295 [-1.964, 0.340], loss: 0.810048, mean_absolute_error: 24.232517, mean_q: 49.410267\n",
      " 12032/100000: episode: 130, duration: 0.423s, episode steps: 179, steps per second: 423, episode reward: 179.000, mean reward: 1.000 [1.000, 1.000], mean action: 0.469 [0.000, 1.000], mean observation: -0.275 [-1.994, 0.391], loss: 1.038259, mean_absolute_error: 24.391165, mean_q: 49.745472\n",
      " 12185/100000: episode: 131, duration: 0.328s, episode steps: 153, steps per second: 467, episode reward: 153.000, mean reward: 1.000 [1.000, 1.000], mean action: 0.464 [0.000, 1.000], mean observation: -0.321 [-2.004, 0.312], loss: 0.610873, mean_absolute_error: 24.238247, mean_q: 49.479351\n",
      " 12352/100000: episode: 132, duration: 0.412s, episode steps: 167, steps per second: 406, episode reward: 167.000, mean reward: 1.000 [1.000, 1.000], mean action: 0.467 [0.000, 1.000], mean observation: -0.298 [-2.004, 0.317], loss: 0.515381, mean_absolute_error: 24.524763, mean_q: 50.128651\n",
      " 12519/100000: episode: 133, duration: 0.368s, episode steps: 167, steps per second: 454, episode reward: 167.000, mean reward: 1.000 [1.000, 1.000], mean action: 0.467 [0.000, 1.000], mean observation: -0.304 [-2.014, 0.326], loss: 0.617523, mean_absolute_error: 24.645918, mean_q: 50.371750\n",
      " 12656/100000: episode: 134, duration: 0.359s, episode steps: 137, steps per second: 382, episode reward: 137.000, mean reward: 1.000 [1.000, 1.000], mean action: 0.460 [0.000, 1.000], mean observation: -0.362 [-2.025, 0.380], loss: 0.768337, mean_absolute_error: 24.349064, mean_q: 49.777653\n",
      " 12809/100000: episode: 135, duration: 0.362s, episode steps: 153, steps per second: 422, episode reward: 153.000, mean reward: 1.000 [1.000, 1.000], mean action: 0.464 [0.000, 1.000], mean observation: -0.309 [-2.023, 0.363], loss: 0.691185, mean_absolute_error: 24.826654, mean_q: 50.794464\n",
      " 12954/100000: episode: 136, duration: 0.311s, episode steps: 145, steps per second: 466, episode reward: 145.000, mean reward: 1.000 [1.000, 1.000], mean action: 0.462 [0.000, 1.000], mean observation: -0.317 [-1.957, 0.303], loss: 0.414553, mean_absolute_error: 24.713516, mean_q: 50.588799\n",
      " 13100/100000: episode: 137, duration: 0.348s, episode steps: 146, steps per second: 420, episode reward: 146.000, mean reward: 1.000 [1.000, 1.000], mean action: 0.466 [0.000, 1.000], mean observation: -0.305 [-1.821, 0.303], loss: 0.627083, mean_absolute_error: 24.719830, mean_q: 50.598499\n",
      " 13300/100000: episode: 138, duration: 0.452s, episode steps: 200, steps per second: 443, episode reward: 200.000, mean reward: 1.000 [1.000, 1.000], mean action: 0.490 [0.000, 1.000], mean observation: -0.080 [-1.096, 0.394], loss: 0.530847, mean_absolute_error: 25.212784, mean_q: 51.603939\n",
      " 13426/100000: episode: 139, duration: 0.272s, episode steps: 126, steps per second: 464, episode reward: 126.000, mean reward: 1.000 [1.000, 1.000], mean action: 0.460 [0.000, 1.000], mean observation: -0.353 [-1.866, 0.380], loss: 0.644122, mean_absolute_error: 24.897558, mean_q: 50.979675\n",
      " 13566/100000: episode: 140, duration: 0.304s, episode steps: 140, steps per second: 460, episode reward: 140.000, mean reward: 1.000 [1.000, 1.000], mean action: 0.464 [0.000, 1.000], mean observation: -0.327 [-1.869, 0.280], loss: 0.631973, mean_absolute_error: 25.060759, mean_q: 51.310265\n",
      " 13766/100000: episode: 141, duration: 0.461s, episode steps: 200, steps per second: 433, episode reward: 200.000, mean reward: 1.000 [1.000, 1.000], mean action: 0.500 [0.000, 1.000], mean observation: 0.022 [-0.384, 0.294], loss: 0.553153, mean_absolute_error: 24.939156, mean_q: 51.023643\n",
      " 13910/100000: episode: 142, duration: 0.311s, episode steps: 144, steps per second: 463, episode reward: 144.000, mean reward: 1.000 [1.000, 1.000], mean action: 0.465 [0.000, 1.000], mean observation: -0.300 [-1.785, 0.367], loss: 0.551925, mean_absolute_error: 25.627096, mean_q: 52.395313\n",
      " 14089/100000: episode: 143, duration: 0.408s, episode steps: 179, steps per second: 439, episode reward: 179.000, mean reward: 1.000 [1.000, 1.000], mean action: 0.475 [0.000, 1.000], mean observation: -0.247 [-1.849, 0.357], loss: 0.437281, mean_absolute_error: 25.641563, mean_q: 52.379322\n",
      " 14275/100000: episode: 144, duration: 0.405s, episode steps: 186, steps per second: 460, episode reward: 186.000, mean reward: 1.000 [1.000, 1.000], mean action: 0.473 [0.000, 1.000], mean observation: -0.233 [-1.795, 0.353], loss: 0.471117, mean_absolute_error: 25.494129, mean_q: 52.193531\n",
      " 14424/100000: episode: 145, duration: 0.325s, episode steps: 149, steps per second: 458, episode reward: 149.000, mean reward: 1.000 [1.000, 1.000], mean action: 0.463 [0.000, 1.000], mean observation: -0.316 [-1.999, 0.278], loss: 1.223191, mean_absolute_error: 25.739906, mean_q: 52.491234\n"
     ]
    },
    {
     "name": "stdout",
     "output_type": "stream",
     "text": [
      " 14555/100000: episode: 146, duration: 0.308s, episode steps: 131, steps per second: 426, episode reward: 131.000, mean reward: 1.000 [1.000, 1.000], mean action: 0.458 [0.000, 1.000], mean observation: -0.327 [-1.999, 0.289], loss: 0.927416, mean_absolute_error: 25.894117, mean_q: 52.936279\n",
      " 14700/100000: episode: 147, duration: 0.313s, episode steps: 145, steps per second: 464, episode reward: 145.000, mean reward: 1.000 [1.000, 1.000], mean action: 0.462 [0.000, 1.000], mean observation: -0.316 [-1.973, 0.287], loss: 0.385359, mean_absolute_error: 25.539463, mean_q: 52.252735\n",
      " 14838/100000: episode: 148, duration: 0.297s, episode steps: 138, steps per second: 465, episode reward: 138.000, mean reward: 1.000 [1.000, 1.000], mean action: 0.464 [0.000, 1.000], mean observation: -0.323 [-1.792, 0.324], loss: 0.366012, mean_absolute_error: 26.013453, mean_q: 53.160610\n",
      " 14965/100000: episode: 149, duration: 0.356s, episode steps: 127, steps per second: 357, episode reward: 127.000, mean reward: 1.000 [1.000, 1.000], mean action: 0.457 [0.000, 1.000], mean observation: -0.357 [-1.983, 0.309], loss: 0.659520, mean_absolute_error: 25.666428, mean_q: 52.376461\n",
      " 15132/100000: episode: 150, duration: 0.408s, episode steps: 167, steps per second: 409, episode reward: 167.000, mean reward: 1.000 [1.000, 1.000], mean action: 0.467 [0.000, 1.000], mean observation: -0.267 [-1.986, 0.317], loss: 0.529412, mean_absolute_error: 25.866287, mean_q: 52.753006\n",
      " 15323/100000: episode: 151, duration: 0.408s, episode steps: 191, steps per second: 468, episode reward: 191.000, mean reward: 1.000 [1.000, 1.000], mean action: 0.471 [0.000, 1.000], mean observation: -0.236 [-2.004, 0.381], loss: 0.632236, mean_absolute_error: 25.877762, mean_q: 52.796543\n",
      " 15462/100000: episode: 152, duration: 0.333s, episode steps: 139, steps per second: 418, episode reward: 139.000, mean reward: 1.000 [1.000, 1.000], mean action: 0.460 [0.000, 1.000], mean observation: -0.339 [-1.991, 0.299], loss: 0.601971, mean_absolute_error: 25.971933, mean_q: 52.929379\n",
      " 15596/100000: episode: 153, duration: 0.287s, episode steps: 134, steps per second: 467, episode reward: 134.000, mean reward: 1.000 [1.000, 1.000], mean action: 0.463 [0.000, 1.000], mean observation: -0.326 [-1.847, 0.273], loss: 0.452138, mean_absolute_error: 26.246956, mean_q: 53.505348\n",
      " 15759/100000: episode: 154, duration: 0.347s, episode steps: 163, steps per second: 470, episode reward: 163.000, mean reward: 1.000 [1.000, 1.000], mean action: 0.472 [0.000, 1.000], mean observation: -0.277 [-1.839, 0.370], loss: 0.346676, mean_absolute_error: 26.216055, mean_q: 53.539555\n",
      " 15919/100000: episode: 155, duration: 0.375s, episode steps: 160, steps per second: 426, episode reward: 160.000, mean reward: 1.000 [1.000, 1.000], mean action: 0.469 [0.000, 1.000], mean observation: -0.292 [-2.021, 0.403], loss: 1.128078, mean_absolute_error: 25.957336, mean_q: 52.961060\n",
      " 16072/100000: episode: 156, duration: 0.326s, episode steps: 153, steps per second: 470, episode reward: 153.000, mean reward: 1.000 [1.000, 1.000], mean action: 0.464 [0.000, 1.000], mean observation: -0.302 [-1.989, 0.264], loss: 0.501078, mean_absolute_error: 25.892685, mean_q: 52.892765\n",
      " 16205/100000: episode: 157, duration: 0.285s, episode steps: 133, steps per second: 467, episode reward: 133.000, mean reward: 1.000 [1.000, 1.000], mean action: 0.459 [0.000, 1.000], mean observation: -0.331 [-2.003, 0.290], loss: 0.289871, mean_absolute_error: 26.050228, mean_q: 53.214928\n",
      " 16387/100000: episode: 158, duration: 0.511s, episode steps: 182, steps per second: 356, episode reward: 182.000, mean reward: 1.000 [1.000, 1.000], mean action: 0.473 [0.000, 1.000], mean observation: -0.249 [-1.847, 0.362], loss: 0.877126, mean_absolute_error: 26.288107, mean_q: 53.670017\n",
      " 16521/100000: episode: 159, duration: 0.317s, episode steps: 134, steps per second: 422, episode reward: 134.000, mean reward: 1.000 [1.000, 1.000], mean action: 0.463 [0.000, 1.000], mean observation: -0.326 [-1.837, 0.295], loss: 0.721143, mean_absolute_error: 25.921803, mean_q: 52.850250\n",
      " 16714/100000: episode: 160, duration: 0.502s, episode steps: 193, steps per second: 385, episode reward: 193.000, mean reward: 1.000 [1.000, 1.000], mean action: 0.477 [0.000, 1.000], mean observation: -0.226 [-1.799, 0.409], loss: 0.304548, mean_absolute_error: 26.066669, mean_q: 53.221069\n",
      " 16856/100000: episode: 161, duration: 0.330s, episode steps: 142, steps per second: 431, episode reward: 142.000, mean reward: 1.000 [1.000, 1.000], mean action: 0.465 [0.000, 1.000], mean observation: -0.319 [-1.970, 0.334], loss: 0.354744, mean_absolute_error: 25.925005, mean_q: 52.908394\n",
      " 16998/100000: episode: 162, duration: 0.303s, episode steps: 142, steps per second: 468, episode reward: 142.000, mean reward: 1.000 [1.000, 1.000], mean action: 0.465 [0.000, 1.000], mean observation: -0.332 [-2.025, 0.293], loss: 0.468075, mean_absolute_error: 26.416012, mean_q: 53.846653\n",
      " 17189/100000: episode: 163, duration: 0.463s, episode steps: 191, steps per second: 413, episode reward: 191.000, mean reward: 1.000 [1.000, 1.000], mean action: 0.476 [0.000, 1.000], mean observation: -0.238 [-1.983, 0.342], loss: 1.097912, mean_absolute_error: 26.256466, mean_q: 53.477634\n",
      " 17341/100000: episode: 164, duration: 0.323s, episode steps: 152, steps per second: 471, episode reward: 152.000, mean reward: 1.000 [1.000, 1.000], mean action: 0.467 [0.000, 1.000], mean observation: -0.296 [-1.835, 0.279], loss: 0.626804, mean_absolute_error: 26.106272, mean_q: 53.276478\n",
      " 17512/100000: episode: 165, duration: 0.374s, episode steps: 171, steps per second: 458, episode reward: 171.000, mean reward: 1.000 [1.000, 1.000], mean action: 0.474 [0.000, 1.000], mean observation: -0.265 [-1.964, 0.303], loss: 0.418773, mean_absolute_error: 26.377569, mean_q: 53.780952\n",
      " 17712/100000: episode: 166, duration: 0.468s, episode steps: 200, steps per second: 427, episode reward: 200.000, mean reward: 1.000 [1.000, 1.000], mean action: 0.460 [0.000, 1.000], mean observation: -0.257 [-2.942, 1.138], loss: 1.210324, mean_absolute_error: 26.335508, mean_q: 53.648647\n",
      " 17885/100000: episode: 167, duration: 0.369s, episode steps: 173, steps per second: 468, episode reward: 173.000, mean reward: 1.000 [1.000, 1.000], mean action: 0.434 [0.000, 1.000], mean observation: -0.325 [-4.295, 2.938], loss: 0.318787, mean_absolute_error: 26.296785, mean_q: 53.645294\n",
      " 18039/100000: episode: 168, duration: 0.388s, episode steps: 154, steps per second: 397, episode reward: 154.000, mean reward: 1.000 [1.000, 1.000], mean action: 0.429 [0.000, 1.000], mean observation: -0.360 [-4.124, 2.766], loss: 1.492413, mean_absolute_error: 26.134523, mean_q: 53.298161\n",
      " 18204/100000: episode: 169, duration: 0.383s, episode steps: 165, steps per second: 431, episode reward: 165.000, mean reward: 1.000 [1.000, 1.000], mean action: 0.430 [0.000, 1.000], mean observation: -0.334 [-4.334, 3.104], loss: 1.242567, mean_absolute_error: 26.035290, mean_q: 52.927532\n",
      " 18383/100000: episode: 170, duration: 0.469s, episode steps: 179, steps per second: 381, episode reward: 179.000, mean reward: 1.000 [1.000, 1.000], mean action: 0.436 [0.000, 1.000], mean observation: -0.307 [-4.298, 3.073], loss: 0.461449, mean_absolute_error: 26.159857, mean_q: 53.330078\n",
      " 18536/100000: episode: 171, duration: 0.562s, episode steps: 153, steps per second: 272, episode reward: 153.000, mean reward: 1.000 [1.000, 1.000], mean action: 0.425 [0.000, 1.000], mean observation: -0.353 [-4.377, 3.348], loss: 0.273042, mean_absolute_error: 26.225229, mean_q: 53.516560\n",
      " 18712/100000: episode: 172, duration: 0.606s, episode steps: 176, steps per second: 290, episode reward: 176.000, mean reward: 1.000 [1.000, 1.000], mean action: 0.438 [0.000, 1.000], mean observation: -0.318 [-4.099, 2.633], loss: 0.886678, mean_absolute_error: 26.291248, mean_q: 53.571018\n",
      " 18882/100000: episode: 173, duration: 0.623s, episode steps: 170, steps per second: 273, episode reward: 170.000, mean reward: 1.000 [1.000, 1.000], mean action: 0.429 [0.000, 1.000], mean observation: -0.321 [-4.477, 3.450], loss: 1.110922, mean_absolute_error: 26.222502, mean_q: 53.339245\n"
     ]
    },
    {
     "name": "stdout",
     "output_type": "stream",
     "text": [
      " 19073/100000: episode: 174, duration: 0.438s, episode steps: 191, steps per second: 436, episode reward: 191.000, mean reward: 1.000 [1.000, 1.000], mean action: 0.440 [0.000, 1.000], mean observation: -0.292 [-4.315, 3.102], loss: 0.322283, mean_absolute_error: 26.429720, mean_q: 53.775871\n",
      " 19273/100000: episode: 175, duration: 0.436s, episode steps: 200, steps per second: 458, episode reward: 200.000, mean reward: 1.000 [1.000, 1.000], mean action: 0.505 [0.000, 1.000], mean observation: 0.076 [-0.408, 0.421], loss: 0.501130, mean_absolute_error: 26.493887, mean_q: 53.803467\n",
      " 19420/100000: episode: 176, duration: 0.345s, episode steps: 147, steps per second: 426, episode reward: 147.000, mean reward: 1.000 [1.000, 1.000], mean action: 0.422 [0.000, 1.000], mean observation: -0.365 [-4.283, 3.130], loss: 1.263686, mean_absolute_error: 26.689672, mean_q: 54.162323\n",
      " 19620/100000: episode: 177, duration: 0.430s, episode steps: 200, steps per second: 465, episode reward: 200.000, mean reward: 1.000 [1.000, 1.000], mean action: 0.490 [0.000, 1.000], mean observation: -0.074 [-0.892, 0.411], loss: 1.005968, mean_absolute_error: 26.725046, mean_q: 54.238018\n",
      " 19820/100000: episode: 178, duration: 0.425s, episode steps: 200, steps per second: 471, episode reward: 200.000, mean reward: 1.000 [1.000, 1.000], mean action: 0.485 [0.000, 1.000], mean observation: -0.097 [-1.064, 0.301], loss: 0.433877, mean_absolute_error: 26.925566, mean_q: 54.687096\n",
      " 20020/100000: episode: 179, duration: 0.516s, episode steps: 200, steps per second: 387, episode reward: 200.000, mean reward: 1.000 [1.000, 1.000], mean action: 0.465 [0.000, 1.000], mean observation: -0.236 [-2.570, 0.784], loss: 0.837064, mean_absolute_error: 27.002802, mean_q: 54.862972\n",
      " 20176/100000: episode: 180, duration: 0.345s, episode steps: 156, steps per second: 452, episode reward: 156.000, mean reward: 1.000 [1.000, 1.000], mean action: 0.429 [0.000, 1.000], mean observation: -0.357 [-4.145, 2.915], loss: 0.748170, mean_absolute_error: 27.013597, mean_q: 54.876152\n",
      " 20376/100000: episode: 181, duration: 0.455s, episode steps: 200, steps per second: 440, episode reward: 200.000, mean reward: 1.000 [1.000, 1.000], mean action: 0.480 [0.000, 1.000], mean observation: -0.169 [-1.485, 0.303], loss: 0.236268, mean_absolute_error: 27.133858, mean_q: 55.156525\n",
      " 20576/100000: episode: 182, duration: 0.432s, episode steps: 200, steps per second: 463, episode reward: 200.000, mean reward: 1.000 [1.000, 1.000], mean action: 0.480 [0.000, 1.000], mean observation: -0.175 [-1.483, 0.266], loss: 0.350829, mean_absolute_error: 27.141655, mean_q: 55.132919\n",
      " 20776/100000: episode: 183, duration: 0.475s, episode steps: 200, steps per second: 421, episode reward: 200.000, mean reward: 1.000 [1.000, 1.000], mean action: 0.485 [0.000, 1.000], mean observation: -0.101 [-1.144, 0.459], loss: 1.050869, mean_absolute_error: 27.073851, mean_q: 54.900429\n",
      " 20976/100000: episode: 184, duration: 0.427s, episode steps: 200, steps per second: 468, episode reward: 200.000, mean reward: 1.000 [1.000, 1.000], mean action: 0.495 [0.000, 1.000], mean observation: -0.044 [-0.551, 0.284], loss: 0.349954, mean_absolute_error: 27.409731, mean_q: 55.615147\n",
      " 21173/100000: episode: 185, duration: 0.446s, episode steps: 197, steps per second: 442, episode reward: 197.000, mean reward: 1.000 [1.000, 1.000], mean action: 0.442 [0.000, 1.000], mean observation: -0.272 [-4.379, 3.619], loss: 1.269836, mean_absolute_error: 27.793310, mean_q: 56.341049\n",
      " 21322/100000: episode: 186, duration: 0.343s, episode steps: 149, steps per second: 435, episode reward: 149.000, mean reward: 1.000 [1.000, 1.000], mean action: 0.423 [0.000, 1.000], mean observation: -0.336 [-4.364, 3.668], loss: 0.827027, mean_absolute_error: 27.448977, mean_q: 55.519333\n",
      " 21495/100000: episode: 187, duration: 0.375s, episode steps: 173, steps per second: 461, episode reward: 173.000, mean reward: 1.000 [1.000, 1.000], mean action: 0.434 [0.000, 1.000], mean observation: -0.289 [-4.389, 3.735], loss: 0.619932, mean_absolute_error: 27.386597, mean_q: 55.481583\n",
      " 21695/100000: episode: 188, duration: 0.467s, episode steps: 200, steps per second: 429, episode reward: 200.000, mean reward: 1.000 [1.000, 1.000], mean action: 0.485 [0.000, 1.000], mean observation: -0.130 [-1.232, 0.395], loss: 1.416221, mean_absolute_error: 27.349859, mean_q: 55.478916\n",
      " 21836/100000: episode: 189, duration: 0.309s, episode steps: 141, steps per second: 457, episode reward: 141.000, mean reward: 1.000 [1.000, 1.000], mean action: 0.418 [0.000, 1.000], mean observation: -0.354 [-4.383, 3.741], loss: 0.341308, mean_absolute_error: 27.481615, mean_q: 55.851269\n",
      " 22036/100000: episode: 190, duration: 0.443s, episode steps: 200, steps per second: 452, episode reward: 200.000, mean reward: 1.000 [1.000, 1.000], mean action: 0.500 [0.000, 1.000], mean observation: 0.071 [-0.420, 0.425], loss: 0.755303, mean_absolute_error: 27.466507, mean_q: 55.723801\n",
      " 22224/100000: episode: 191, duration: 0.413s, episode steps: 188, steps per second: 456, episode reward: 188.000, mean reward: 1.000 [1.000, 1.000], mean action: 0.441 [0.000, 1.000], mean observation: -0.273 [-4.189, 3.449], loss: 0.411749, mean_absolute_error: 27.735756, mean_q: 56.308159\n",
      " 22408/100000: episode: 192, duration: 0.397s, episode steps: 184, steps per second: 463, episode reward: 184.000, mean reward: 1.000 [1.000, 1.000], mean action: 0.440 [0.000, 1.000], mean observation: -0.276 [-4.200, 3.470], loss: 1.453213, mean_absolute_error: 27.599058, mean_q: 55.996231\n",
      " 22559/100000: episode: 193, duration: 0.387s, episode steps: 151, steps per second: 390, episode reward: 151.000, mean reward: 1.000 [1.000, 1.000], mean action: 0.424 [0.000, 1.000], mean observation: -0.335 [-4.373, 3.726], loss: 0.854504, mean_absolute_error: 27.677771, mean_q: 56.034767\n",
      " 22759/100000: episode: 194, duration: 0.436s, episode steps: 200, steps per second: 459, episode reward: 200.000, mean reward: 1.000 [1.000, 1.000], mean action: 0.460 [0.000, 1.000], mean observation: -0.235 [-2.960, 1.533], loss: 0.449425, mean_absolute_error: 27.460665, mean_q: 55.681419\n",
      " 22959/100000: episode: 195, duration: 0.452s, episode steps: 200, steps per second: 442, episode reward: 200.000, mean reward: 1.000 [1.000, 1.000], mean action: 0.500 [0.000, 1.000], mean observation: 0.107 [-0.359, 0.654], loss: 1.333455, mean_absolute_error: 27.807833, mean_q: 56.336758\n",
      " 23159/100000: episode: 196, duration: 0.433s, episode steps: 200, steps per second: 462, episode reward: 200.000, mean reward: 1.000 [1.000, 1.000], mean action: 0.495 [0.000, 1.000], mean observation: -0.034 [-0.395, 0.281], loss: 1.148169, mean_absolute_error: 27.858252, mean_q: 56.460728\n",
      " 23359/100000: episode: 197, duration: 0.431s, episode steps: 200, steps per second: 465, episode reward: 200.000, mean reward: 1.000 [1.000, 1.000], mean action: 0.500 [0.000, 1.000], mean observation: 0.035 [-0.331, 0.343], loss: 1.363251, mean_absolute_error: 27.886114, mean_q: 56.478867\n",
      " 23503/100000: episode: 198, duration: 0.347s, episode steps: 144, steps per second: 415, episode reward: 144.000, mean reward: 1.000 [1.000, 1.000], mean action: 0.424 [0.000, 1.000], mean observation: -0.344 [-4.196, 3.424], loss: 0.661091, mean_absolute_error: 28.065224, mean_q: 56.831264\n",
      " 23703/100000: episode: 199, duration: 0.431s, episode steps: 200, steps per second: 465, episode reward: 200.000, mean reward: 1.000 [1.000, 1.000], mean action: 0.480 [0.000, 1.000], mean observation: -0.176 [-1.634, 0.343], loss: 1.837591, mean_absolute_error: 28.309301, mean_q: 57.324982\n"
     ]
    }
   ],
   "source": [
    "dqn.compile(Adam(lr=1e-3), metrics=['mae'])\n",
    "\n",
    "history = dqn.fit(env, nb_steps=100000, visualize=False, verbose=2)"
   ]
  },
  {
   "cell_type": "code",
   "execution_count": 43,
   "metadata": {},
   "outputs": [
    {
     "name": "stdout",
     "output_type": "stream",
     "text": [
      "[WARNING] cartpole_dqn.hdf5 already exists - overwrite? [y/n]y\n",
      "[TIP] Next time specify overwrite=True!\n"
     ]
    }
   ],
   "source": [
    "with open('cartpole_history.json', 'w') as f:\n",
    "    json.dump(history.history, f)\n",
    "\n",
    "dqn.save_weights('cartpole_dqn.hdf5')"
   ]
  },
  {
   "cell_type": "markdown",
   "metadata": {},
   "source": [
    "### Results"
   ]
  },
  {
   "cell_type": "code",
   "execution_count": 52,
   "metadata": {},
   "outputs": [
    {
     "name": "stdout",
     "output_type": "stream",
     "text": [
      "\u001b[33mWARN: gym.spaces.Box autodetected dtype as <class 'numpy.float32'>. Please provide explicit dtype.\u001b[0m\n",
      "Testing for 5 episodes ...\n",
      "Episode 1: reward: 200.000, steps: 200\n",
      "Episode 2: reward: 200.000, steps: 200\n",
      "Episode 3: reward: 200.000, steps: 200\n",
      "Episode 4: reward: 200.000, steps: 200\n",
      "Episode 5: reward: 200.000, steps: 200\n"
     ]
    }
   ],
   "source": [
    "env = gym.make('CartPole-v0')\n",
    "dqn.load_weights('cartpole_dqn.hdf5')\n",
    "dqn.test(env, nb_episodes=5, visualize=True)\n",
    "env.close()"
   ]
  },
  {
   "cell_type": "code",
   "execution_count": 53,
   "metadata": {},
   "outputs": [],
   "source": [
    "y = None\n",
    "with open('cartpole_history.json', 'r') as f:\n",
    "    y = json.load(f)"
   ]
  },
  {
   "cell_type": "code",
   "execution_count": 54,
   "metadata": {},
   "outputs": [],
   "source": [
    "import matplotlib.pyplot as plt\n",
    "%matplotlib inline"
   ]
  },
  {
   "cell_type": "code",
   "execution_count": 55,
   "metadata": {},
   "outputs": [
    {
     "data": {
      "image/png": "[encoded data removed]",
      "text/plain": [
       "<Figure size 432x288 with 1 Axes>"
      ]
     },
     "metadata": {},
     "output_type": "display_data"
    }
   ],
   "source": [
    "fig = plt.figure()\n",
    "ax = fig.add_subplot(111)\n",
    "ax.set_title('DQN_rewards')\n",
    "ax.set_xlabel('episodes')\n",
    "ax.set_ylabel('rewards')\n",
    "episode_reward = np.array(y['episode_reward'])\n",
    "ax.plot(episode_reward)\n",
    "plt.savefig('CartPole_DQN_rewards')\n",
    "plt.show()"
   ]
  },
  {
   "cell_type": "code",
   "execution_count": 56,
   "metadata": {},
   "outputs": [
    {
     "data": {
      "text/plain": [
       "624"
      ]
     },
     "execution_count": 56,
     "metadata": {},
     "output_type": "execute_result"
    }
   ],
   "source": [
    "len(episode_reward)"
   ]
  },
  {
   "cell_type": "code",
   "execution_count": 61,
   "metadata": {},
   "outputs": [
    {
     "name": "stdout",
     "output_type": "stream",
     "text": [
      "Avg. reward:  163.116412214\n"
     ]
    }
   ],
   "source": [
    "# 1) Avg. reward over the last 100 consecutive episodes\n",
    "print('Avg. reward: ', np.mean(episode_reward[100:]))"
   ]
  },
  {
   "cell_type": "code",
   "execution_count": 62,
   "metadata": {},
   "outputs": [],
   "source": [
    "# 2) How many episodes before you encounter 100 consecutive episodes\n",
    "b4 = False\n",
    "count = 0\n",
    "max_continuous = 0\n",
    "for idx, reward in enumerate(episode_reward > 150):\n",
    "    count = count + 1 if b4 and reward else 0\n",
    "    max_continuous = max(max_continuous, count)\n",
    "    b4 = reward"
   ]
  },
  {
   "cell_type": "code",
   "execution_count": 63,
   "metadata": {},
   "outputs": [
    {
     "data": {
      "text/plain": [
       "80"
      ]
     },
     "execution_count": 63,
     "metadata": {},
     "output_type": "execute_result"
    }
   ],
   "source": [
    "max_continuous  # It doesn't reaches 100"
   ]
  },
  {
   "cell_type": "markdown",
   "metadata": {},
   "source": [
    "### 3) any other informatoins\n",
    "* The reward for every episodes\n",
    "* DQN network summery\n",
    "\n",
    "Are shown abeve."
   ]
  },
  {
   "cell_type": "code",
   "execution_count": 68,
   "metadata": {},
   "outputs": [],
   "source": [
    "model = Sequential()\n",
    "# input: (n x 4) ( Cart Position, Cart Vel, Pole Angle, Pole Vel)\n",
    "model.add(Flatten(input_shape=(1, env.observation_space.shape[0])))\n",
    "model.add(Dense(16))\n",
    "model.add(Activation('relu'))\n",
    "model.add(Dense(16))\n",
    "model.add(Activation('relu'))\n",
    "model.add(Dense(16))\n",
    "model.add(Activation('relu'))\n",
    "\n",
    "# output: (n x 3) (left, no, right)\n",
    "model.add(Dense(env.action_space.n))\n",
    "model.add(Activation('linear'))"
   ]
  },
  {
   "cell_type": "code",
   "execution_count": 69,
   "metadata": {
    "scrolled": true
   },
   "outputs": [
    {
     "name": "stdout",
     "output_type": "stream",
     "text": [
      "_________________________________________________________________\n",
      "Layer (type)                 Output Shape              Param #   \n",
      "=================================================================\n",
      "flatten_3 (Flatten)          (None, 4)                 0         \n",
      "_________________________________________________________________\n",
      "dense_9 (Dense)              (None, 16)                80        \n",
      "_________________________________________________________________\n",
      "activation_9 (Activation)    (None, 16)                0         \n",
      "_________________________________________________________________\n",
      "dense_10 (Dense)             (None, 16)                272       \n",
      "_________________________________________________________________\n",
      "activation_10 (Activation)   (None, 16)                0         \n",
      "_________________________________________________________________\n",
      "dense_11 (Dense)             (None, 16)                272       \n",
      "_________________________________________________________________\n",
      "activation_11 (Activation)   (None, 16)                0         \n",
      "_________________________________________________________________\n",
      "dense_12 (Dense)             (None, 2)                 34        \n",
      "_________________________________________________________________\n",
      "activation_12 (Activation)   (None, 2)                 0         \n",
      "=================================================================\n",
      "Total params: 658\n",
      "Trainable params: 658\n",
      "Non-trainable params: 0\n",
      "_________________________________________________________________\n"
     ]
    }
   ],
   "source": [
    "model.summary()"
   ]
  },
  {
   "cell_type": "code",
   "execution_count": null,
   "metadata": {},
   "outputs": [],
   "source": []
  }
 ],
 "metadata": {
  "kernelspec": {
   "display_name": "Python 3",
   "language": "python",
   "name": "python3"
  },
  "language_info": {
   "codemirror_mode": {
    "name": "ipython",
    "version": 3
   },
   "file_extension": ".py",
   "mimetype": "text/x-python",
   "name": "python",
   "nbconvert_exporter": "python",
   "pygments_lexer": "ipython3",
   "version": "3.6.5"
  }
 },
 "nbformat": 4,
 "nbformat_minor": 2
}
