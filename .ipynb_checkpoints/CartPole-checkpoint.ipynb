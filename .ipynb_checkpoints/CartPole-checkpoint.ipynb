{
 "cells": [
  {
   "cell_type": "code",
   "execution_count": 1,
   "metadata": {},
   "outputs": [],
   "source": [
    "import gym\n",
    "import numpy as np\n",
    "import matplotlib.pyplot as plt\n",
    "from gym import wrappers\n",
    "%matplotlib inline"
   ]
  },
  {
   "cell_type": "markdown",
   "metadata": {},
   "source": [
    "#### For practicing reinforcement learning\n",
    "\n",
    "* observation:  \n",
    "    (Cart Position ,  Cart Velocity ,  Pole Angle ,  Pole Velocity At Tip)\n",
    " \n",
    "* Actions:  \n",
    "    0 Push cart to the left; 1 Push cart to the right\n",
    "\n",
    "* Reward:  \n",
    "    Reward is for every step taken ,  including the termination step\n",
    "\n",
    "* Starting State:  \n",
    "    All observations are assigned a uniform random value between +-0.05\n",
    "\n",
    "* Episode Termination:  \n",
    "    Pole Angle is more than ±12°\n",
    "    Cart Position is more than ± 2.4 \n",
    "    (center of the cart reaches the edge of the display)\n",
    "    Episode length is greater than 200\n",
    "\n",
    "* reference:  \n",
    "    http:  //neuro-educator.com/rl1/\n"
   ]
  },
  {
   "cell_type": "markdown",
   "metadata": {},
   "source": [
    "### Sample CartPole"
   ]
  },
  {
   "cell_type": "code",
   "execution_count": 2,
   "metadata": {},
   "outputs": [],
   "source": [
    "EPISODE_NUM = 100\n",
    "STATE_NUM = 40"
   ]
  },
  {
   "cell_type": "markdown",
   "metadata": {},
   "source": [
    "### Let's Q-Learning\n",
    "\n",
    "The Equation of Q-Learning\n",
    "$$Q(s,a)\\leftarrow Q(s,a)+ \\alpha(R(s,a)+ \\gamma \\max _{a'\\in A(s')}Q(s',a')-Q(s,a)$$\n",
    "\n",
    "First, to define the q-table, devide each observation into STATE_NUM states.\n",
    "\n",
    "* observation:  \n",
    "    (Cart Position ,  Cart Velocity ,  Pole Angle ,  Pole Velocity At Tip)\n",
    " \n",
    "Out of the parameters of observation, Cart Velocity and Pole Velocity have too large range.\n",
    "\n",
    "So, I decided each states as following:   \n",
    "Cart Position\t-2.4\t2.4  \n",
    "Cart Velocity\t-3.0\t3.0  \n",
    "Pole Angle\t~ -41.8°\t~ 41.8°  \n",
    "Pole Velocity At Tip\t-5.0\t5.0  "
   ]
  },
  {
   "cell_type": "code",
   "execution_count": 3,
   "metadata": {},
   "outputs": [],
   "source": [
    "def get_status(_observation):\n",
    "    '''\n",
    "    input: continuous values of observation\n",
    "    return: discrete values\n",
    "    '''\n",
    "    _observation = np.array(_observation)\n",
    "    ob_low = np.array((-2.4, -3.0, -41.8, -5.0))\n",
    "    ob_low -= 1e-5\n",
    "    ob_high = np.array(ob_low * -1)\n",
    "    ob_dx = ob_high * 2 / STATE_NUM \n",
    "    \n",
    "    status = ((_observation - ob_low) / ob_dx).astype(np.int32)\n",
    "    return status"
   ]
  },
  {
   "cell_type": "code",
   "execution_count": 4,
   "metadata": {},
   "outputs": [
    {
     "name": "stdout",
     "output_type": "stream",
     "text": [
      "[ 0  0  0 12]\n",
      "[28 33 35 23]\n",
      "[39 39 39 27]\n"
     ]
    }
   ],
   "source": [
    "# test get_status\n",
    "print(get_status([-2.4,-3.0,-41.8,-2.0]))\n",
    "print(get_status([1.0, 2.0, 33, 1]))\n",
    "print(get_status([2.4,3.0,41.8,2.0]))"
   ]
  },
  {
   "cell_type": "code",
   "execution_count": 5,
   "metadata": {},
   "outputs": [],
   "source": [
    "q_table = np.zeros((STATE_NUM, STATE_NUM, STATE_NUM, STATE_NUM, 2))"
   ]
  },
  {
   "cell_type": "markdown",
   "metadata": {},
   "source": [
    "Then, define the function to update q_table.  \n",
    "Dimention of q_table: (40, 40, 40, 40, 3)  \n",
    "(each statuses(40) and action(3))  \n",
    "\n",
    "Consider the q-equation\n",
    "$$Q(s,a)\\leftarrow Q(s,a)+ \\alpha(R(s,a)+ \\gamma \\max _{a'\\in A(s')}Q(s',a')-Q(s,a))$$"
   ]
  },
  {
   "cell_type": "code",
   "execution_count": 6,
   "metadata": {},
   "outputs": [],
   "source": [
    "def update_q_table(_q_table, _alpha, _gamma, _action, \n",
    "                   _observation, _next_observation, _reward):\n",
    "    '''\n",
    "    update q_table using current observation(before action) and\n",
    "    next observation(after action)\n",
    "    '''\n",
    "    now_cp, now_cv, now_pa, now_pv = get_status(_observation)\n",
    "    nxt_cp, nxt_cv, nxt_pa, nxt_pv = get_status(_next_observation) \n",
    "    \n",
    "    now_Q = _q_table[now_cp][now_cv][now_pa][now_pv][_action]\n",
    "    max_next_Q = np.max(_q_table[nxt_cp][nxt_cv][nxt_pa][nxt_pv])\n",
    "    \n",
    "    update_Q = now_Q + _alpha * (_reward + _gamma * max_next_Q - now_Q)\n",
    "    # print('now:',get_status(_observation))\n",
    "    # print('next:', get_status(_next_observation))\n",
    "    # print('update_q', update_Q)\n",
    "    _q_table[now_cp][now_cv][now_pa][now_pv][_action] =  update_Q\n",
    "    return _q_table"
   ]
  },
  {
   "cell_type": "markdown",
   "metadata": {},
   "source": [
    "Finally, make the function of epsilon greedy-algorithm."
   ]
  },
  {
   "cell_type": "code",
   "execution_count": 7,
   "metadata": {},
   "outputs": [],
   "source": [
    "def get_action(_q_table, _observation, _epsilon):\n",
    "    action = np.random.choice([0, 1])\n",
    "    now_cp, now_cv, now_pa, now_pv = get_status(_observation)\n",
    "    \n",
    "    if np.random.uniform(0, 1) > _epsilon:\n",
    "        action = np.argmax(_q_table[now_cp][now_cv][now_pa][now_pv])\n",
    "    return action"
   ]
  },
  {
   "cell_type": "markdown",
   "metadata": {},
   "source": [
    "Now, we define all the required functions.\n",
    "Let's start to train."
   ]
  },
  {
   "cell_type": "code",
   "execution_count": 8,
   "metadata": {},
   "outputs": [],
   "source": [
    "EPISODE_NUM = 30000\n",
    "STATE_NUM = 40\n",
    "q_table = np.zeros((STATE_NUM, STATE_NUM, STATE_NUM, STATE_NUM, 2))"
   ]
  },
  {
   "cell_type": "code",
   "execution_count": 9,
   "metadata": {
    "scrolled": true
   },
   "outputs": [
    {
     "name": "stdout",
     "output_type": "stream",
     "text": [
      "\u001b[33mWARN: gym.spaces.Box autodetected dtype as <class 'numpy.float32'>. Please provide explicit dtype.\u001b[0m\n",
      "episode: 0, total_reward: 10.0\n",
      "episode: 100, total_reward: 9.0\n",
      "episode: 200, total_reward: 10.0\n",
      "episode: 300, total_reward: 10.0\n",
      "episode: 400, total_reward: 10.0\n",
      "episode: 500, total_reward: 9.0\n",
      "episode: 600, total_reward: 10.0\n",
      "episode: 700, total_reward: 10.0\n",
      "episode: 800, total_reward: 9.0\n",
      "episode: 900, total_reward: 9.0\n",
      "episode: 1000, total_reward: 9.0\n",
      "episode: 1100, total_reward: 9.0\n",
      "episode: 1200, total_reward: 9.0\n",
      "episode: 1300, total_reward: 8.0\n",
      "episode: 1400, total_reward: 10.0\n",
      "episode: 1500, total_reward: 9.0\n",
      "episode: 1600, total_reward: 10.0\n",
      "episode: 1700, total_reward: 9.0\n",
      "episode: 1800, total_reward: 10.0\n",
      "episode: 1900, total_reward: 9.0\n",
      "episode: 2000, total_reward: 10.0\n",
      "episode: 2100, total_reward: 11.0\n",
      "episode: 2200, total_reward: 11.0\n",
      "episode: 2300, total_reward: 8.0\n",
      "episode: 2400, total_reward: 9.0\n",
      "episode: 2500, total_reward: 11.0\n",
      "episode: 2600, total_reward: 9.0\n",
      "episode: 2700, total_reward: 10.0\n",
      "episode: 2800, total_reward: 9.0\n",
      "episode: 2900, total_reward: 9.0\n",
      "episode: 3000, total_reward: 10.0\n",
      "episode: 3100, total_reward: 8.0\n",
      "episode: 3200, total_reward: 11.0\n",
      "episode: 3300, total_reward: 10.0\n",
      "episode: 3400, total_reward: 10.0\n",
      "episode: 3500, total_reward: 11.0\n",
      "episode: 3600, total_reward: 9.0\n",
      "episode: 3700, total_reward: 10.0\n",
      "episode: 3800, total_reward: 8.0\n",
      "episode: 3900, total_reward: 11.0\n",
      "episode: 4000, total_reward: 16.0\n",
      "episode: 4100, total_reward: 10.0\n",
      "episode: 4200, total_reward: 10.0\n",
      "episode: 4300, total_reward: 14.0\n",
      "episode: 4400, total_reward: 8.0\n",
      "episode: 4500, total_reward: 11.0\n",
      "episode: 4600, total_reward: 11.0\n",
      "episode: 4700, total_reward: 9.0\n",
      "episode: 4800, total_reward: 9.0\n",
      "episode: 4900, total_reward: 8.0\n",
      "episode: 5000, total_reward: 9.0\n",
      "episode: 5100, total_reward: 9.0\n",
      "episode: 5200, total_reward: 9.0\n",
      "episode: 5300, total_reward: 9.0\n",
      "episode: 5400, total_reward: 9.0\n",
      "episode: 5500, total_reward: 10.0\n",
      "episode: 5600, total_reward: 12.0\n",
      "episode: 5700, total_reward: 8.0\n",
      "episode: 5800, total_reward: 9.0\n",
      "episode: 5900, total_reward: 16.0\n",
      "episode: 6000, total_reward: 16.0\n",
      "episode: 6100, total_reward: 13.0\n",
      "episode: 6200, total_reward: 10.0\n",
      "episode: 6300, total_reward: 10.0\n",
      "episode: 6400, total_reward: 10.0\n",
      "episode: 6500, total_reward: 11.0\n",
      "episode: 6600, total_reward: 9.0\n",
      "episode: 6700, total_reward: 11.0\n",
      "episode: 6800, total_reward: 10.0\n",
      "episode: 6900, total_reward: 11.0\n",
      "episode: 7000, total_reward: 11.0\n",
      "episode: 7100, total_reward: 14.0\n",
      "episode: 7200, total_reward: 8.0\n",
      "episode: 7300, total_reward: 12.0\n",
      "episode: 7400, total_reward: 9.0\n",
      "episode: 7500, total_reward: 9.0\n",
      "episode: 7600, total_reward: 14.0\n",
      "episode: 7700, total_reward: 14.0\n",
      "episode: 7800, total_reward: 18.0\n",
      "episode: 7900, total_reward: 13.0\n",
      "episode: 8000, total_reward: 8.0\n",
      "episode: 8100, total_reward: 23.0\n",
      "episode: 8200, total_reward: 22.0\n",
      "episode: 8300, total_reward: 28.0\n",
      "episode: 8400, total_reward: 12.0\n",
      "episode: 8500, total_reward: 9.0\n",
      "episode: 8600, total_reward: 17.0\n",
      "episode: 8700, total_reward: 14.0\n",
      "episode: 8800, total_reward: 18.0\n",
      "episode: 8900, total_reward: 10.0\n",
      "episode: 9000, total_reward: 21.0\n",
      "episode: 9100, total_reward: 13.0\n",
      "episode: 9200, total_reward: 10.0\n",
      "episode: 9300, total_reward: 15.0\n",
      "episode: 9400, total_reward: 13.0\n",
      "episode: 9500, total_reward: 25.0\n",
      "episode: 9600, total_reward: 17.0\n",
      "episode: 9700, total_reward: 28.0\n",
      "episode: 9800, total_reward: 19.0\n",
      "episode: 9900, total_reward: 24.0\n",
      "episode: 10000, total_reward: 16.0\n",
      "episode: 10100, total_reward: 13.0\n",
      "episode: 10200, total_reward: 18.0\n",
      "episode: 10300, total_reward: 18.0\n",
      "episode: 10400, total_reward: 30.0\n",
      "episode: 10500, total_reward: 19.0\n",
      "episode: 10600, total_reward: 22.0\n",
      "episode: 10700, total_reward: 19.0\n",
      "episode: 10800, total_reward: 17.0\n",
      "episode: 10900, total_reward: 17.0\n",
      "episode: 11000, total_reward: 15.0\n",
      "episode: 11100, total_reward: 23.0\n",
      "episode: 11200, total_reward: 21.0\n",
      "episode: 11300, total_reward: 24.0\n",
      "episode: 11400, total_reward: 16.0\n",
      "episode: 11500, total_reward: 27.0\n",
      "episode: 11600, total_reward: 21.0\n",
      "episode: 11700, total_reward: 19.0\n",
      "episode: 11800, total_reward: 24.0\n",
      "episode: 11900, total_reward: 25.0\n",
      "episode: 12000, total_reward: 26.0\n",
      "episode: 12100, total_reward: 29.0\n",
      "episode: 12200, total_reward: 27.0\n",
      "episode: 12300, total_reward: 22.0\n",
      "episode: 12400, total_reward: 17.0\n",
      "episode: 12500, total_reward: 25.0\n",
      "episode: 12600, total_reward: 23.0\n",
      "episode: 12700, total_reward: 22.0\n",
      "episode: 12800, total_reward: 18.0\n",
      "episode: 12900, total_reward: 21.0\n",
      "episode: 13000, total_reward: 28.0\n",
      "episode: 13100, total_reward: 18.0\n",
      "episode: 13200, total_reward: 17.0\n",
      "episode: 13300, total_reward: 31.0\n",
      "episode: 13400, total_reward: 25.0\n",
      "episode: 13500, total_reward: 15.0\n",
      "episode: 13600, total_reward: 22.0\n",
      "episode: 13700, total_reward: 40.0\n",
      "episode: 13800, total_reward: 20.0\n",
      "episode: 13900, total_reward: 23.0\n",
      "episode: 14000, total_reward: 27.0\n",
      "episode: 14100, total_reward: 20.0\n",
      "episode: 14200, total_reward: 14.0\n",
      "episode: 14300, total_reward: 22.0\n",
      "episode: 14400, total_reward: 21.0\n",
      "episode: 14500, total_reward: 18.0\n",
      "episode: 14600, total_reward: 17.0\n",
      "episode: 14700, total_reward: 18.0\n",
      "episode: 14800, total_reward: 21.0\n",
      "episode: 14900, total_reward: 20.0\n",
      "episode: 15000, total_reward: 31.0\n",
      "episode: 15100, total_reward: 25.0\n",
      "episode: 15200, total_reward: 30.0\n",
      "episode: 15300, total_reward: 24.0\n",
      "episode: 15400, total_reward: 79.0\n",
      "episode: 15500, total_reward: 29.0\n",
      "episode: 15600, total_reward: 28.0\n",
      "episode: 15700, total_reward: 40.0\n",
      "episode: 15800, total_reward: 31.0\n",
      "episode: 15900, total_reward: 56.0\n",
      "episode: 16000, total_reward: 33.0\n",
      "episode: 16100, total_reward: 34.0\n",
      "episode: 16200, total_reward: 18.0\n",
      "episode: 16300, total_reward: 90.0\n",
      "episode: 16400, total_reward: 14.0\n",
      "episode: 16500, total_reward: 143.0\n",
      "episode: 16600, total_reward: 190.0\n",
      "episode: 16700, total_reward: 20.0\n",
      "episode: 16800, total_reward: 71.0\n",
      "episode: 16900, total_reward: 34.0\n",
      "episode: 17000, total_reward: 16.0\n",
      "episode: 17100, total_reward: 58.0\n",
      "episode: 17200, total_reward: 23.0\n",
      "episode: 17300, total_reward: 15.0\n",
      "episode: 17400, total_reward: 60.0\n",
      "episode: 17500, total_reward: 31.0\n",
      "episode: 17600, total_reward: 24.0\n",
      "episode: 17700, total_reward: 23.0\n",
      "episode: 17800, total_reward: 23.0\n",
      "episode: 17900, total_reward: 25.0\n",
      "episode: 18000, total_reward: 31.0\n",
      "episode: 18100, total_reward: 50.0\n",
      "episode: 18200, total_reward: 18.0\n",
      "episode: 18300, total_reward: 22.0\n",
      "episode: 18400, total_reward: 16.0\n",
      "episode: 18500, total_reward: 19.0\n",
      "episode: 18600, total_reward: 21.0\n",
      "episode: 18700, total_reward: 67.0\n",
      "episode: 18800, total_reward: 95.0\n",
      "episode: 18900, total_reward: 25.0\n",
      "episode: 19000, total_reward: 59.0\n",
      "episode: 19100, total_reward: 23.0\n",
      "episode: 19200, total_reward: 12.0\n",
      "episode: 19300, total_reward: 27.0\n",
      "episode: 19400, total_reward: 14.0\n",
      "episode: 19500, total_reward: 20.0\n",
      "episode: 19600, total_reward: 14.0\n",
      "episode: 19700, total_reward: 19.0\n",
      "episode: 19800, total_reward: 31.0\n",
      "episode: 19900, total_reward: 32.0\n",
      "episode: 20000, total_reward: 15.0\n",
      "episode: 20100, total_reward: 15.0\n",
      "episode: 20200, total_reward: 21.0\n",
      "episode: 20300, total_reward: 21.0\n",
      "episode: 20400, total_reward: 21.0\n",
      "episode: 20500, total_reward: 31.0\n",
      "episode: 20600, total_reward: 23.0\n",
      "episode: 20700, total_reward: 18.0\n",
      "episode: 20800, total_reward: 35.0\n",
      "episode: 20900, total_reward: 17.0\n",
      "episode: 21000, total_reward: 25.0\n",
      "episode: 21100, total_reward: 77.0\n",
      "episode: 21200, total_reward: 23.0\n",
      "episode: 21300, total_reward: 59.0\n",
      "episode: 21400, total_reward: 69.0\n",
      "episode: 21500, total_reward: 51.0\n",
      "episode: 21600, total_reward: 56.0\n",
      "episode: 21700, total_reward: 63.0\n",
      "episode: 21800, total_reward: 73.0\n",
      "episode: 21900, total_reward: 37.0\n",
      "episode: 22000, total_reward: 38.0\n",
      "episode: 22100, total_reward: 35.0\n",
      "episode: 22200, total_reward: 200.0\n",
      "episode: 22300, total_reward: 200.0\n",
      "episode: 22400, total_reward: 200.0\n",
      "episode: 22500, total_reward: 56.0\n",
      "episode: 22600, total_reward: 40.0\n",
      "episode: 22700, total_reward: 125.0\n",
      "episode: 22800, total_reward: 31.0\n",
      "episode: 22900, total_reward: 118.0\n",
      "episode: 23000, total_reward: 61.0\n",
      "episode: 23100, total_reward: 197.0\n",
      "episode: 23200, total_reward: 91.0\n",
      "episode: 23300, total_reward: 26.0\n",
      "episode: 23400, total_reward: 23.0\n"
     ]
    },
    {
     "name": "stdout",
     "output_type": "stream",
     "text": [
      "episode: 23500, total_reward: 200.0\n",
      "episode: 23600, total_reward: 200.0\n",
      "episode: 23700, total_reward: 38.0\n",
      "episode: 23800, total_reward: 76.0\n",
      "episode: 23900, total_reward: 43.0\n",
      "episode: 24000, total_reward: 200.0\n",
      "episode: 24100, total_reward: 102.0\n",
      "episode: 24200, total_reward: 61.0\n",
      "episode: 24300, total_reward: 48.0\n",
      "episode: 24400, total_reward: 44.0\n",
      "episode: 24500, total_reward: 100.0\n",
      "episode: 24600, total_reward: 84.0\n",
      "episode: 24700, total_reward: 118.0\n",
      "episode: 24800, total_reward: 192.0\n",
      "episode: 24900, total_reward: 40.0\n",
      "episode: 25000, total_reward: 58.0\n",
      "episode: 25100, total_reward: 13.0\n",
      "episode: 25200, total_reward: 30.0\n",
      "episode: 25300, total_reward: 75.0\n",
      "episode: 25400, total_reward: 155.0\n",
      "episode: 25500, total_reward: 156.0\n",
      "episode: 25600, total_reward: 35.0\n",
      "episode: 25700, total_reward: 103.0\n",
      "episode: 25800, total_reward: 46.0\n",
      "episode: 25900, total_reward: 70.0\n",
      "episode: 26000, total_reward: 28.0\n",
      "episode: 26100, total_reward: 58.0\n",
      "episode: 26200, total_reward: 72.0\n",
      "episode: 26300, total_reward: 62.0\n",
      "episode: 26400, total_reward: 30.0\n",
      "episode: 26500, total_reward: 55.0\n",
      "episode: 26600, total_reward: 141.0\n",
      "episode: 26700, total_reward: 30.0\n",
      "episode: 26800, total_reward: 27.0\n",
      "episode: 26900, total_reward: 81.0\n",
      "episode: 27000, total_reward: 26.0\n",
      "episode: 27100, total_reward: 52.0\n",
      "episode: 27200, total_reward: 132.0\n",
      "episode: 27300, total_reward: 195.0\n",
      "episode: 27400, total_reward: 75.0\n",
      "episode: 27500, total_reward: 58.0\n",
      "episode: 27600, total_reward: 64.0\n",
      "episode: 27700, total_reward: 51.0\n",
      "episode: 27800, total_reward: 109.0\n",
      "episode: 27900, total_reward: 46.0\n",
      "episode: 28000, total_reward: 66.0\n",
      "episode: 28100, total_reward: 50.0\n",
      "episode: 28200, total_reward: 115.0\n",
      "episode: 28300, total_reward: 60.0\n",
      "episode: 28400, total_reward: 29.0\n",
      "episode: 28500, total_reward: 41.0\n",
      "episode: 28600, total_reward: 35.0\n",
      "episode: 28700, total_reward: 119.0\n",
      "episode: 28800, total_reward: 200.0\n",
      "episode: 28900, total_reward: 87.0\n",
      "episode: 29000, total_reward: 200.0\n",
      "episode: 29100, total_reward: 57.0\n",
      "episode: 29200, total_reward: 200.0\n",
      "episode: 29300, total_reward: 28.0\n",
      "episode: 29400, total_reward: 200.0\n",
      "episode: 29500, total_reward: 37.0\n",
      "episode: 29600, total_reward: 43.0\n",
      "episode: 29700, total_reward: 95.0\n",
      "episode: 29800, total_reward: 84.0\n",
      "episode: 29900, total_reward: 144.0\n"
     ]
    }
   ],
   "source": [
    "env = gym.make('CartPole-v0')\n",
    "q_table = np.zeros((STATE_NUM, STATE_NUM, STATE_NUM, STATE_NUM, 2))\n",
    "reward_history = []\n",
    "episode_history = []\n",
    "for episode in range(EPISODE_NUM):\n",
    "    total_reward = 0\n",
    "    observation = env.reset()\n",
    "    while True :\n",
    "        if episode == EPISODE_NUM - 1:\n",
    "            env.render()\n",
    "        action = get_action(q_table, observation, 0.002)\n",
    "        next_observation, reward, done, info = env.step(action)\n",
    "        q_table = update_q_table(q_table, 0.5, 0.99, action, observation\n",
    "                       , next_observation, reward)\n",
    "        total_reward += reward\n",
    "        observation = next_observation\n",
    "        if done:\n",
    "            if episode % 100 == 0:\n",
    "                print(\"episode: {}, total_reward: {}\".format(episode,\n",
    "                                                            total_reward))\n",
    "                episode_history.append(episode)\n",
    "                reward_history.append(total_reward)\n",
    "            break\n",
    "    \n",
    "env.close()"
   ]
  },
  {
   "cell_type": "code",
   "execution_count": 10,
   "metadata": {},
   "outputs": [],
   "source": [
    "reward_history = np.array(reward_history)\n",
    "episode_history = np.array(episode_history)\n",
    "\n",
    "np.save(\"data/q_table.npy\", q_table)\n",
    "np.save(\"data/reward_history.npy\", reward_history)\n",
    "np.save(\"data/episode_history.npy\", episode_history)"
   ]
  },
  {
   "cell_type": "markdown",
   "metadata": {},
   "source": [
    "#### CartPole Test"
   ]
  },
  {
   "cell_type": "code",
   "execution_count": 21,
   "metadata": {},
   "outputs": [
    {
     "data": {
      "text/plain": [
       "True"
      ]
     },
     "execution_count": 21,
     "metadata": {},
     "output_type": "execute_result"
    }
   ],
   "source": [
    "env.render()"
   ]
  },
  {
   "cell_type": "code",
   "execution_count": 23,
   "metadata": {},
   "outputs": [
    {
     "name": "stdout",
     "output_type": "stream",
     "text": [
      "\u001b[33mWARN: gym.spaces.Box autodetected dtype as <class 'numpy.float32'>. Please provide explicit dtype.\u001b[0m\n",
      "(40, 40, 40, 40, 2)\n"
     ]
    }
   ],
   "source": [
    "video_path = \"./vedeo_run\"\n",
    "env = gym.make('CartPole-v0')\n",
    "#env = wrappers.Monitor(env, video_path, force=True)\n",
    "observation = env.reset()  # obtain initial state\n",
    "q_table = np.load(\"data/q_table.npy\")\n",
    "print(q_table.shape)\n",
    "while True:\n",
    "    env.render()\n",
    "    # choose action by e-greedy\n",
    "    action = get_action(q_table, observation, 0)\n",
    "    # move the car and get the information\n",
    "    next_observation, reward, done, _ = env.step(action)\n",
    "    observation = next_observation\n",
    "    # if done == True, then terminate\n",
    "    if done:\n",
    "        break\n",
    "env.close()"
   ]
  },
  {
   "cell_type": "markdown",
   "metadata": {},
   "source": [
    "#### Show the graph of rewards"
   ]
  },
  {
   "cell_type": "code",
   "execution_count": 29,
   "metadata": {},
   "outputs": [
    {
     "data": {
      "image/png": "[encoded data removed]",
      "text/plain": [
       "<Figure size 432x288 with 1 Axes>"
      ]
     },
     "metadata": {},
     "output_type": "display_data"
    }
   ],
   "source": [
    "env.close()\n",
    "rewards_history = np.load(\"data/reward_history.npy\")\n",
    "episode_hisotry = np.load(\"data/episode_history.npy\")\n",
    "fig = plt.figure()\n",
    "ax = fig.add_subplot(111)\n",
    "ax.set_title('CartPole Q-Learning')\n",
    "ax.set_xlabel('episode')\n",
    "ax.set_ylabel('reward')\n",
    "\n",
    "ax.plot(episode_hisotry, rewards_history, label=\"reward\")\n",
    "plt.savefig(\"CartPole_Qlearning.png\")\n",
    "plt.show()"
   ]
  },
  {
   "cell_type": "code",
   "execution_count": 28,
   "metadata": {},
   "outputs": [],
   "source": [
    "env.close()"
   ]
  }
 ],
 "metadata": {
  "kernelspec": {
   "display_name": "Python 3",
   "language": "python",
   "name": "python3"
  },
  "language_info": {
   "codemirror_mode": {
    "name": "ipython",
    "version": 3
   },
   "file_extension": ".py",
   "mimetype": "text/x-python",
   "name": "python",
   "nbconvert_exporter": "python",
   "pygments_lexer": "ipython3",
   "version": "3.6.5"
  }
 },
 "nbformat": 4,
 "nbformat_minor": 2
}
